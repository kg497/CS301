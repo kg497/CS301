{
  "nbformat": 4,
  "nbformat_minor": 0,
  "metadata": {
    "colab": {
      "name": "CS301 Project: Embeddings",
      "provenance": [],
      "collapsed_sections": [],
      "include_colab_link": true
    },
    "kernelspec": {
      "name": "python3",
      "display_name": "Python 3"
    },
    "language_info": {
      "name": "python"
    },
    "accelerator": "GPU"
  },
  "cells": [
    {
      "cell_type": "markdown",
      "metadata": {
        "id": "view-in-github",
        "colab_type": "text"
      },
      "source": [
        "<a href=\"https://colab.research.google.com/github/kg497/CS301/blob/dev/CS301_Project_Embeddings.ipynb\" target=\"_parent\"><img src=\"https://colab.research.google.com/assets/colab-badge.svg\" alt=\"Open In Colab\"/></a>"
      ]
    },
    {
      "cell_type": "markdown",
      "source": [
        "First, we need to import the necessary packages"
      ],
      "metadata": {
        "id": "3Og7k8KsMiRg"
      }
    },
    {
      "cell_type": "code",
      "execution_count": null,
      "metadata": {
        "id": "YG2yfMhVHPnR"
      },
      "outputs": [],
      "source": [
        "#based on https://www.kaggle.com/code/himanshubag/patent-matching-glove-embd\n",
        "import jax.numpy as jnp\n",
        "from jax import grad, jit, vmap\n",
        "from jax import random\n",
        "from google.colab import files\n",
        "\n",
        "import numpy as np \n",
        "import pandas as pd \n",
        "\n",
        "import os"
      ]
    },
    {
      "cell_type": "markdown",
      "source": [
        "Mounting Google Drive will allow us to use data in the drive"
      ],
      "metadata": {
        "id": "Xgw6FpaXMuHc"
      }
    },
    {
      "cell_type": "code",
      "source": [
        "from google.colab import drive\n",
        "drive.mount('/content/drive')"
      ],
      "metadata": {
        "colab": {
          "base_uri": "https://localhost:8080/"
        },
        "id": "pxmf1gC_yrfb",
        "outputId": "bd7ba556-cb67-42ab-c862-2dd6e996a7d5"
      },
      "execution_count": null,
      "outputs": [
        {
          "output_type": "stream",
          "name": "stdout",
          "text": [
            "Drive already mounted at /content/drive; to attempt to forcibly remount, call drive.mount(\"/content/drive\", force_remount=True).\n"
          ]
        }
      ]
    },
    {
      "cell_type": "markdown",
      "source": [
        "Read the data in and print the information"
      ],
      "metadata": {
        "id": "LHZJi_fuMwHs"
      }
    },
    {
      "cell_type": "code",
      "source": [
        "train_df = pd.read_csv(r'drive/My Drive/Colab Notebooks/Project/train.csv')\n",
        "print(train_df.info())\n",
        "train_df.head()"
      ],
      "metadata": {
        "colab": {
          "base_uri": "https://localhost:8080/",
          "height": 444
        },
        "id": "EiVburBZHR6L",
        "outputId": "949fe85f-8da9-45ff-d447-91224f570e47"
      },
      "execution_count": null,
      "outputs": [
        {
          "output_type": "stream",
          "name": "stdout",
          "text": [
            "<class 'pandas.core.frame.DataFrame'>\n",
            "RangeIndex: 36473 entries, 0 to 36472\n",
            "Data columns (total 5 columns):\n",
            " #   Column   Non-Null Count  Dtype  \n",
            "---  ------   --------------  -----  \n",
            " 0   id       36473 non-null  object \n",
            " 1   anchor   36473 non-null  object \n",
            " 2   target   36473 non-null  object \n",
            " 3   context  36473 non-null  object \n",
            " 4   score    36473 non-null  float64\n",
            "dtypes: float64(1), object(4)\n",
            "memory usage: 1.4+ MB\n",
            "None\n"
          ]
        },
        {
          "output_type": "execute_result",
          "data": {
            "text/plain": [
              "                 id     anchor                  target context  score\n",
              "0  37d61fd2272659b1  abatement  abatement of pollution     A47   0.50\n",
              "1  7b9652b17b68b7a4  abatement          act of abating     A47   0.75\n",
              "2  36d72442aefd8232  abatement         active catalyst     A47   0.25\n",
              "3  5296b0c19e1ce60e  abatement     eliminating process     A47   0.50\n",
              "4  54c1e3b9184cb5b6  abatement           forest region     A47   0.00"
            ],
            "text/html": [
              "\n",
              "  <div id=\"df-69238df4-d2b3-402c-8e3e-a964a0388738\">\n",
              "    <div class=\"colab-df-container\">\n",
              "      <div>\n",
              "<style scoped>\n",
              "    .dataframe tbody tr th:only-of-type {\n",
              "        vertical-align: middle;\n",
              "    }\n",
              "\n",
              "    .dataframe tbody tr th {\n",
              "        vertical-align: top;\n",
              "    }\n",
              "\n",
              "    .dataframe thead th {\n",
              "        text-align: right;\n",
              "    }\n",
              "</style>\n",
              "<table border=\"1\" class=\"dataframe\">\n",
              "  <thead>\n",
              "    <tr style=\"text-align: right;\">\n",
              "      <th></th>\n",
              "      <th>id</th>\n",
              "      <th>anchor</th>\n",
              "      <th>target</th>\n",
              "      <th>context</th>\n",
              "      <th>score</th>\n",
              "    </tr>\n",
              "  </thead>\n",
              "  <tbody>\n",
              "    <tr>\n",
              "      <th>0</th>\n",
              "      <td>37d61fd2272659b1</td>\n",
              "      <td>abatement</td>\n",
              "      <td>abatement of pollution</td>\n",
              "      <td>A47</td>\n",
              "      <td>0.50</td>\n",
              "    </tr>\n",
              "    <tr>\n",
              "      <th>1</th>\n",
              "      <td>7b9652b17b68b7a4</td>\n",
              "      <td>abatement</td>\n",
              "      <td>act of abating</td>\n",
              "      <td>A47</td>\n",
              "      <td>0.75</td>\n",
              "    </tr>\n",
              "    <tr>\n",
              "      <th>2</th>\n",
              "      <td>36d72442aefd8232</td>\n",
              "      <td>abatement</td>\n",
              "      <td>active catalyst</td>\n",
              "      <td>A47</td>\n",
              "      <td>0.25</td>\n",
              "    </tr>\n",
              "    <tr>\n",
              "      <th>3</th>\n",
              "      <td>5296b0c19e1ce60e</td>\n",
              "      <td>abatement</td>\n",
              "      <td>eliminating process</td>\n",
              "      <td>A47</td>\n",
              "      <td>0.50</td>\n",
              "    </tr>\n",
              "    <tr>\n",
              "      <th>4</th>\n",
              "      <td>54c1e3b9184cb5b6</td>\n",
              "      <td>abatement</td>\n",
              "      <td>forest region</td>\n",
              "      <td>A47</td>\n",
              "      <td>0.00</td>\n",
              "    </tr>\n",
              "  </tbody>\n",
              "</table>\n",
              "</div>\n",
              "      <button class=\"colab-df-convert\" onclick=\"convertToInteractive('df-69238df4-d2b3-402c-8e3e-a964a0388738')\"\n",
              "              title=\"Convert this dataframe to an interactive table.\"\n",
              "              style=\"display:none;\">\n",
              "        \n",
              "  <svg xmlns=\"http://www.w3.org/2000/svg\" height=\"24px\"viewBox=\"0 0 24 24\"\n",
              "       width=\"24px\">\n",
              "    <path d=\"M0 0h24v24H0V0z\" fill=\"none\"/>\n",
              "    <path d=\"M18.56 5.44l.94 2.06.94-2.06 2.06-.94-2.06-.94-.94-2.06-.94 2.06-2.06.94zm-11 1L8.5 8.5l.94-2.06 2.06-.94-2.06-.94L8.5 2.5l-.94 2.06-2.06.94zm10 10l.94 2.06.94-2.06 2.06-.94-2.06-.94-.94-2.06-.94 2.06-2.06.94z\"/><path d=\"M17.41 7.96l-1.37-1.37c-.4-.4-.92-.59-1.43-.59-.52 0-1.04.2-1.43.59L10.3 9.45l-7.72 7.72c-.78.78-.78 2.05 0 2.83L4 21.41c.39.39.9.59 1.41.59.51 0 1.02-.2 1.41-.59l7.78-7.78 2.81-2.81c.8-.78.8-2.07 0-2.86zM5.41 20L4 18.59l7.72-7.72 1.47 1.35L5.41 20z\"/>\n",
              "  </svg>\n",
              "      </button>\n",
              "      \n",
              "  <style>\n",
              "    .colab-df-container {\n",
              "      display:flex;\n",
              "      flex-wrap:wrap;\n",
              "      gap: 12px;\n",
              "    }\n",
              "\n",
              "    .colab-df-convert {\n",
              "      background-color: #E8F0FE;\n",
              "      border: none;\n",
              "      border-radius: 50%;\n",
              "      cursor: pointer;\n",
              "      display: none;\n",
              "      fill: #1967D2;\n",
              "      height: 32px;\n",
              "      padding: 0 0 0 0;\n",
              "      width: 32px;\n",
              "    }\n",
              "\n",
              "    .colab-df-convert:hover {\n",
              "      background-color: #E2EBFA;\n",
              "      box-shadow: 0px 1px 2px rgba(60, 64, 67, 0.3), 0px 1px 3px 1px rgba(60, 64, 67, 0.15);\n",
              "      fill: #174EA6;\n",
              "    }\n",
              "\n",
              "    [theme=dark] .colab-df-convert {\n",
              "      background-color: #3B4455;\n",
              "      fill: #D2E3FC;\n",
              "    }\n",
              "\n",
              "    [theme=dark] .colab-df-convert:hover {\n",
              "      background-color: #434B5C;\n",
              "      box-shadow: 0px 1px 3px 1px rgba(0, 0, 0, 0.15);\n",
              "      filter: drop-shadow(0px 1px 2px rgba(0, 0, 0, 0.3));\n",
              "      fill: #FFFFFF;\n",
              "    }\n",
              "  </style>\n",
              "\n",
              "      <script>\n",
              "        const buttonEl =\n",
              "          document.querySelector('#df-69238df4-d2b3-402c-8e3e-a964a0388738 button.colab-df-convert');\n",
              "        buttonEl.style.display =\n",
              "          google.colab.kernel.accessAllowed ? 'block' : 'none';\n",
              "\n",
              "        async function convertToInteractive(key) {\n",
              "          const element = document.querySelector('#df-69238df4-d2b3-402c-8e3e-a964a0388738');\n",
              "          const dataTable =\n",
              "            await google.colab.kernel.invokeFunction('convertToInteractive',\n",
              "                                                     [key], {});\n",
              "          if (!dataTable) return;\n",
              "\n",
              "          const docLinkHtml = 'Like what you see? Visit the ' +\n",
              "            '<a target=\"_blank\" href=https://colab.research.google.com/notebooks/data_table.ipynb>data table notebook</a>'\n",
              "            + ' to learn more about interactive tables.';\n",
              "          element.innerHTML = '';\n",
              "          dataTable['output_type'] = 'display_data';\n",
              "          await google.colab.output.renderOutput(dataTable, element);\n",
              "          const docLink = document.createElement('div');\n",
              "          docLink.innerHTML = docLinkHtml;\n",
              "          element.appendChild(docLink);\n",
              "        }\n",
              "      </script>\n",
              "    </div>\n",
              "  </div>\n",
              "  "
            ]
          },
          "metadata": {},
          "execution_count": 75
        }
      ]
    },
    {
      "cell_type": "code",
      "source": [
        "test_df = pd.read_csv(r'drive/My Drive/Colab Notebooks/Project/test.csv')\n",
        "print(test_df.info())\n",
        "test_df.head()"
      ],
      "metadata": {
        "id": "di7Ej_0KHY4q",
        "colab": {
          "base_uri": "https://localhost:8080/",
          "height": 425
        },
        "outputId": "2a943475-fcd6-4346-81a3-24a852292c46"
      },
      "execution_count": null,
      "outputs": [
        {
          "output_type": "stream",
          "name": "stdout",
          "text": [
            "<class 'pandas.core.frame.DataFrame'>\n",
            "RangeIndex: 36 entries, 0 to 35\n",
            "Data columns (total 4 columns):\n",
            " #   Column   Non-Null Count  Dtype \n",
            "---  ------   --------------  ----- \n",
            " 0   id       36 non-null     object\n",
            " 1   anchor   36 non-null     object\n",
            " 2   target   36 non-null     object\n",
            " 3   context  36 non-null     object\n",
            "dtypes: object(4)\n",
            "memory usage: 1.2+ KB\n",
            "None\n"
          ]
        },
        {
          "output_type": "execute_result",
          "data": {
            "text/plain": [
              "                 id              anchor                         target context\n",
              "0  4112d61851461f60            opc drum  inorganic photoconductor drum     G02\n",
              "1  09e418c93a776564     adjust gas flow              altering gas flow     F23\n",
              "2  36baf228038e314b      lower trunnion                 lower locating     B60\n",
              "3  1f37ead645e7f0c8       cap component                  upper portion     D06\n",
              "4  71a5b6ad068d531f  neural stimulation      artificial neural network     H04"
            ],
            "text/html": [
              "\n",
              "  <div id=\"df-8506b28b-e4f6-4d9a-a4ea-846e5c6fa791\">\n",
              "    <div class=\"colab-df-container\">\n",
              "      <div>\n",
              "<style scoped>\n",
              "    .dataframe tbody tr th:only-of-type {\n",
              "        vertical-align: middle;\n",
              "    }\n",
              "\n",
              "    .dataframe tbody tr th {\n",
              "        vertical-align: top;\n",
              "    }\n",
              "\n",
              "    .dataframe thead th {\n",
              "        text-align: right;\n",
              "    }\n",
              "</style>\n",
              "<table border=\"1\" class=\"dataframe\">\n",
              "  <thead>\n",
              "    <tr style=\"text-align: right;\">\n",
              "      <th></th>\n",
              "      <th>id</th>\n",
              "      <th>anchor</th>\n",
              "      <th>target</th>\n",
              "      <th>context</th>\n",
              "    </tr>\n",
              "  </thead>\n",
              "  <tbody>\n",
              "    <tr>\n",
              "      <th>0</th>\n",
              "      <td>4112d61851461f60</td>\n",
              "      <td>opc drum</td>\n",
              "      <td>inorganic photoconductor drum</td>\n",
              "      <td>G02</td>\n",
              "    </tr>\n",
              "    <tr>\n",
              "      <th>1</th>\n",
              "      <td>09e418c93a776564</td>\n",
              "      <td>adjust gas flow</td>\n",
              "      <td>altering gas flow</td>\n",
              "      <td>F23</td>\n",
              "    </tr>\n",
              "    <tr>\n",
              "      <th>2</th>\n",
              "      <td>36baf228038e314b</td>\n",
              "      <td>lower trunnion</td>\n",
              "      <td>lower locating</td>\n",
              "      <td>B60</td>\n",
              "    </tr>\n",
              "    <tr>\n",
              "      <th>3</th>\n",
              "      <td>1f37ead645e7f0c8</td>\n",
              "      <td>cap component</td>\n",
              "      <td>upper portion</td>\n",
              "      <td>D06</td>\n",
              "    </tr>\n",
              "    <tr>\n",
              "      <th>4</th>\n",
              "      <td>71a5b6ad068d531f</td>\n",
              "      <td>neural stimulation</td>\n",
              "      <td>artificial neural network</td>\n",
              "      <td>H04</td>\n",
              "    </tr>\n",
              "  </tbody>\n",
              "</table>\n",
              "</div>\n",
              "      <button class=\"colab-df-convert\" onclick=\"convertToInteractive('df-8506b28b-e4f6-4d9a-a4ea-846e5c6fa791')\"\n",
              "              title=\"Convert this dataframe to an interactive table.\"\n",
              "              style=\"display:none;\">\n",
              "        \n",
              "  <svg xmlns=\"http://www.w3.org/2000/svg\" height=\"24px\"viewBox=\"0 0 24 24\"\n",
              "       width=\"24px\">\n",
              "    <path d=\"M0 0h24v24H0V0z\" fill=\"none\"/>\n",
              "    <path d=\"M18.56 5.44l.94 2.06.94-2.06 2.06-.94-2.06-.94-.94-2.06-.94 2.06-2.06.94zm-11 1L8.5 8.5l.94-2.06 2.06-.94-2.06-.94L8.5 2.5l-.94 2.06-2.06.94zm10 10l.94 2.06.94-2.06 2.06-.94-2.06-.94-.94-2.06-.94 2.06-2.06.94z\"/><path d=\"M17.41 7.96l-1.37-1.37c-.4-.4-.92-.59-1.43-.59-.52 0-1.04.2-1.43.59L10.3 9.45l-7.72 7.72c-.78.78-.78 2.05 0 2.83L4 21.41c.39.39.9.59 1.41.59.51 0 1.02-.2 1.41-.59l7.78-7.78 2.81-2.81c.8-.78.8-2.07 0-2.86zM5.41 20L4 18.59l7.72-7.72 1.47 1.35L5.41 20z\"/>\n",
              "  </svg>\n",
              "      </button>\n",
              "      \n",
              "  <style>\n",
              "    .colab-df-container {\n",
              "      display:flex;\n",
              "      flex-wrap:wrap;\n",
              "      gap: 12px;\n",
              "    }\n",
              "\n",
              "    .colab-df-convert {\n",
              "      background-color: #E8F0FE;\n",
              "      border: none;\n",
              "      border-radius: 50%;\n",
              "      cursor: pointer;\n",
              "      display: none;\n",
              "      fill: #1967D2;\n",
              "      height: 32px;\n",
              "      padding: 0 0 0 0;\n",
              "      width: 32px;\n",
              "    }\n",
              "\n",
              "    .colab-df-convert:hover {\n",
              "      background-color: #E2EBFA;\n",
              "      box-shadow: 0px 1px 2px rgba(60, 64, 67, 0.3), 0px 1px 3px 1px rgba(60, 64, 67, 0.15);\n",
              "      fill: #174EA6;\n",
              "    }\n",
              "\n",
              "    [theme=dark] .colab-df-convert {\n",
              "      background-color: #3B4455;\n",
              "      fill: #D2E3FC;\n",
              "    }\n",
              "\n",
              "    [theme=dark] .colab-df-convert:hover {\n",
              "      background-color: #434B5C;\n",
              "      box-shadow: 0px 1px 3px 1px rgba(0, 0, 0, 0.15);\n",
              "      filter: drop-shadow(0px 1px 2px rgba(0, 0, 0, 0.3));\n",
              "      fill: #FFFFFF;\n",
              "    }\n",
              "  </style>\n",
              "\n",
              "      <script>\n",
              "        const buttonEl =\n",
              "          document.querySelector('#df-8506b28b-e4f6-4d9a-a4ea-846e5c6fa791 button.colab-df-convert');\n",
              "        buttonEl.style.display =\n",
              "          google.colab.kernel.accessAllowed ? 'block' : 'none';\n",
              "\n",
              "        async function convertToInteractive(key) {\n",
              "          const element = document.querySelector('#df-8506b28b-e4f6-4d9a-a4ea-846e5c6fa791');\n",
              "          const dataTable =\n",
              "            await google.colab.kernel.invokeFunction('convertToInteractive',\n",
              "                                                     [key], {});\n",
              "          if (!dataTable) return;\n",
              "\n",
              "          const docLinkHtml = 'Like what you see? Visit the ' +\n",
              "            '<a target=\"_blank\" href=https://colab.research.google.com/notebooks/data_table.ipynb>data table notebook</a>'\n",
              "            + ' to learn more about interactive tables.';\n",
              "          element.innerHTML = '';\n",
              "          dataTable['output_type'] = 'display_data';\n",
              "          await google.colab.output.renderOutput(dataTable, element);\n",
              "          const docLink = document.createElement('div');\n",
              "          docLink.innerHTML = docLinkHtml;\n",
              "          element.appendChild(docLink);\n",
              "        }\n",
              "      </script>\n",
              "    </div>\n",
              "  </div>\n",
              "  "
            ]
          },
          "metadata": {},
          "execution_count": 76
        }
      ]
    },
    {
      "cell_type": "code",
      "source": [
        "sample_sub = pd.read_csv(r'drive/My Drive/Colab Notebooks/Project/sample_submission.csv')\n",
        "sample_sub.head()"
      ],
      "metadata": {
        "id": "n681CerKHbXC",
        "colab": {
          "base_uri": "https://localhost:8080/",
          "height": 206
        },
        "outputId": "6636e56f-aa85-4f1a-8d36-8df1b2e38b79"
      },
      "execution_count": null,
      "outputs": [
        {
          "output_type": "execute_result",
          "data": {
            "text/plain": [
              "                 id  score\n",
              "0  4112d61851461f60      0\n",
              "1  09e418c93a776564      0\n",
              "2  36baf228038e314b      0\n",
              "3  1f37ead645e7f0c8      0\n",
              "4  71a5b6ad068d531f      0"
            ],
            "text/html": [
              "\n",
              "  <div id=\"df-4890caa8-4ef0-4581-bc98-d0462b83783e\">\n",
              "    <div class=\"colab-df-container\">\n",
              "      <div>\n",
              "<style scoped>\n",
              "    .dataframe tbody tr th:only-of-type {\n",
              "        vertical-align: middle;\n",
              "    }\n",
              "\n",
              "    .dataframe tbody tr th {\n",
              "        vertical-align: top;\n",
              "    }\n",
              "\n",
              "    .dataframe thead th {\n",
              "        text-align: right;\n",
              "    }\n",
              "</style>\n",
              "<table border=\"1\" class=\"dataframe\">\n",
              "  <thead>\n",
              "    <tr style=\"text-align: right;\">\n",
              "      <th></th>\n",
              "      <th>id</th>\n",
              "      <th>score</th>\n",
              "    </tr>\n",
              "  </thead>\n",
              "  <tbody>\n",
              "    <tr>\n",
              "      <th>0</th>\n",
              "      <td>4112d61851461f60</td>\n",
              "      <td>0</td>\n",
              "    </tr>\n",
              "    <tr>\n",
              "      <th>1</th>\n",
              "      <td>09e418c93a776564</td>\n",
              "      <td>0</td>\n",
              "    </tr>\n",
              "    <tr>\n",
              "      <th>2</th>\n",
              "      <td>36baf228038e314b</td>\n",
              "      <td>0</td>\n",
              "    </tr>\n",
              "    <tr>\n",
              "      <th>3</th>\n",
              "      <td>1f37ead645e7f0c8</td>\n",
              "      <td>0</td>\n",
              "    </tr>\n",
              "    <tr>\n",
              "      <th>4</th>\n",
              "      <td>71a5b6ad068d531f</td>\n",
              "      <td>0</td>\n",
              "    </tr>\n",
              "  </tbody>\n",
              "</table>\n",
              "</div>\n",
              "      <button class=\"colab-df-convert\" onclick=\"convertToInteractive('df-4890caa8-4ef0-4581-bc98-d0462b83783e')\"\n",
              "              title=\"Convert this dataframe to an interactive table.\"\n",
              "              style=\"display:none;\">\n",
              "        \n",
              "  <svg xmlns=\"http://www.w3.org/2000/svg\" height=\"24px\"viewBox=\"0 0 24 24\"\n",
              "       width=\"24px\">\n",
              "    <path d=\"M0 0h24v24H0V0z\" fill=\"none\"/>\n",
              "    <path d=\"M18.56 5.44l.94 2.06.94-2.06 2.06-.94-2.06-.94-.94-2.06-.94 2.06-2.06.94zm-11 1L8.5 8.5l.94-2.06 2.06-.94-2.06-.94L8.5 2.5l-.94 2.06-2.06.94zm10 10l.94 2.06.94-2.06 2.06-.94-2.06-.94-.94-2.06-.94 2.06-2.06.94z\"/><path d=\"M17.41 7.96l-1.37-1.37c-.4-.4-.92-.59-1.43-.59-.52 0-1.04.2-1.43.59L10.3 9.45l-7.72 7.72c-.78.78-.78 2.05 0 2.83L4 21.41c.39.39.9.59 1.41.59.51 0 1.02-.2 1.41-.59l7.78-7.78 2.81-2.81c.8-.78.8-2.07 0-2.86zM5.41 20L4 18.59l7.72-7.72 1.47 1.35L5.41 20z\"/>\n",
              "  </svg>\n",
              "      </button>\n",
              "      \n",
              "  <style>\n",
              "    .colab-df-container {\n",
              "      display:flex;\n",
              "      flex-wrap:wrap;\n",
              "      gap: 12px;\n",
              "    }\n",
              "\n",
              "    .colab-df-convert {\n",
              "      background-color: #E8F0FE;\n",
              "      border: none;\n",
              "      border-radius: 50%;\n",
              "      cursor: pointer;\n",
              "      display: none;\n",
              "      fill: #1967D2;\n",
              "      height: 32px;\n",
              "      padding: 0 0 0 0;\n",
              "      width: 32px;\n",
              "    }\n",
              "\n",
              "    .colab-df-convert:hover {\n",
              "      background-color: #E2EBFA;\n",
              "      box-shadow: 0px 1px 2px rgba(60, 64, 67, 0.3), 0px 1px 3px 1px rgba(60, 64, 67, 0.15);\n",
              "      fill: #174EA6;\n",
              "    }\n",
              "\n",
              "    [theme=dark] .colab-df-convert {\n",
              "      background-color: #3B4455;\n",
              "      fill: #D2E3FC;\n",
              "    }\n",
              "\n",
              "    [theme=dark] .colab-df-convert:hover {\n",
              "      background-color: #434B5C;\n",
              "      box-shadow: 0px 1px 3px 1px rgba(0, 0, 0, 0.15);\n",
              "      filter: drop-shadow(0px 1px 2px rgba(0, 0, 0, 0.3));\n",
              "      fill: #FFFFFF;\n",
              "    }\n",
              "  </style>\n",
              "\n",
              "      <script>\n",
              "        const buttonEl =\n",
              "          document.querySelector('#df-4890caa8-4ef0-4581-bc98-d0462b83783e button.colab-df-convert');\n",
              "        buttonEl.style.display =\n",
              "          google.colab.kernel.accessAllowed ? 'block' : 'none';\n",
              "\n",
              "        async function convertToInteractive(key) {\n",
              "          const element = document.querySelector('#df-4890caa8-4ef0-4581-bc98-d0462b83783e');\n",
              "          const dataTable =\n",
              "            await google.colab.kernel.invokeFunction('convertToInteractive',\n",
              "                                                     [key], {});\n",
              "          if (!dataTable) return;\n",
              "\n",
              "          const docLinkHtml = 'Like what you see? Visit the ' +\n",
              "            '<a target=\"_blank\" href=https://colab.research.google.com/notebooks/data_table.ipynb>data table notebook</a>'\n",
              "            + ' to learn more about interactive tables.';\n",
              "          element.innerHTML = '';\n",
              "          dataTable['output_type'] = 'display_data';\n",
              "          await google.colab.output.renderOutput(dataTable, element);\n",
              "          const docLink = document.createElement('div');\n",
              "          docLink.innerHTML = docLinkHtml;\n",
              "          element.appendChild(docLink);\n",
              "        }\n",
              "      </script>\n",
              "    </div>\n",
              "  </div>\n",
              "  "
            ]
          },
          "metadata": {},
          "execution_count": 77
        }
      ]
    },
    {
      "cell_type": "markdown",
      "source": [
        "Print the unique values from the anchor column, target column, and value column"
      ],
      "metadata": {
        "id": "ifhN0oR7M7-u"
      }
    },
    {
      "cell_type": "code",
      "source": [
        "train_df['anchor'].value_counts()"
      ],
      "metadata": {
        "id": "bAGbDfRfHcvk",
        "colab": {
          "base_uri": "https://localhost:8080/"
        },
        "outputId": "617862ec-94b9-407f-e420-e0fdd5b4ce83"
      },
      "execution_count": null,
      "outputs": [
        {
          "output_type": "execute_result",
          "data": {
            "text/plain": [
              "component composite coating              152\n",
              "sheet supply roller                      150\n",
              "source voltage                           140\n",
              "perfluoroalkyl group                     136\n",
              "el display                               135\n",
              "                                        ... \n",
              "plug nozzle                                2\n",
              "shannon                                    2\n",
              "dry coating composition1                   2\n",
              "peripheral nervous system stimulation      1\n",
              "conduct conducting material                1\n",
              "Name: anchor, Length: 733, dtype: int64"
            ]
          },
          "metadata": {},
          "execution_count": 78
        }
      ]
    },
    {
      "cell_type": "code",
      "source": [
        "train_df['target'].value_counts()"
      ],
      "metadata": {
        "id": "PVPuHhTpHd-P",
        "colab": {
          "base_uri": "https://localhost:8080/"
        },
        "outputId": "195fe80f-8e5e-488d-cb97-53d480d9538b"
      },
      "execution_count": null,
      "outputs": [
        {
          "output_type": "execute_result",
          "data": {
            "text/plain": [
              "composition                    24\n",
              "data                           22\n",
              "metal                          22\n",
              "motor                          22\n",
              "assembly                       21\n",
              "                               ..\n",
              "switching switch over valve     1\n",
              "switching switch off valve      1\n",
              "switching over valve            1\n",
              "switching off valve             1\n",
              "wooden substrate                1\n",
              "Name: target, Length: 29340, dtype: int64"
            ]
          },
          "metadata": {},
          "execution_count": 79
        }
      ]
    },
    {
      "cell_type": "code",
      "source": [
        "train_df['context'].value_counts()"
      ],
      "metadata": {
        "id": "PvfawEWvHfzr",
        "colab": {
          "base_uri": "https://localhost:8080/"
        },
        "outputId": "7a478aa5-875d-4c17-8410-38f374f46cf3"
      },
      "execution_count": null,
      "outputs": [
        {
          "output_type": "execute_result",
          "data": {
            "text/plain": [
              "H01    2186\n",
              "H04    2177\n",
              "G01    1812\n",
              "A61    1477\n",
              "F16    1091\n",
              "       ... \n",
              "B03      47\n",
              "F17      33\n",
              "B31      24\n",
              "A62      23\n",
              "F26      18\n",
              "Name: context, Length: 106, dtype: int64"
            ]
          },
          "metadata": {},
          "execution_count": 80
        }
      ]
    },
    {
      "cell_type": "code",
      "source": [
        "cpc = pd.read_csv(r'drive/My Drive/Colab Notebooks/Project/titles.csv')\n",
        "cpc.head()"
      ],
      "metadata": {
        "id": "J2vYOy8YHhCl",
        "colab": {
          "base_uri": "https://localhost:8080/",
          "height": 206
        },
        "outputId": "cee0a7d4-2956-48c7-e072-7bdd0cb017aa"
      },
      "execution_count": null,
      "outputs": [
        {
          "output_type": "execute_result",
          "data": {
            "text/plain": [
              "       code                                              title section  class  \\\n",
              "0         A                                  HUMAN NECESSITIES       A    NaN   \n",
              "1       A01  AGRICULTURE; FORESTRY; ANIMAL HUSBANDRY; HUNTI...       A    1.0   \n",
              "2      A01B  SOIL WORKING IN AGRICULTURE OR FORESTRY; PARTS...       A    1.0   \n",
              "3  A01B1/00  Hand tools (edge trimmers for lawns A01G3/06  ...       A    1.0   \n",
              "4  A01B1/02  Spades; Shovels {(hand-operated dredgers E02F3...       A    1.0   \n",
              "\n",
              "  subclass  group  main_group  \n",
              "0      NaN    NaN         NaN  \n",
              "1      NaN    NaN         NaN  \n",
              "2        B    NaN         NaN  \n",
              "3        B    1.0         0.0  \n",
              "4        B    1.0         2.0  "
            ],
            "text/html": [
              "\n",
              "  <div id=\"df-0b8f2f2c-05e7-4150-894e-5d410aa706a1\">\n",
              "    <div class=\"colab-df-container\">\n",
              "      <div>\n",
              "<style scoped>\n",
              "    .dataframe tbody tr th:only-of-type {\n",
              "        vertical-align: middle;\n",
              "    }\n",
              "\n",
              "    .dataframe tbody tr th {\n",
              "        vertical-align: top;\n",
              "    }\n",
              "\n",
              "    .dataframe thead th {\n",
              "        text-align: right;\n",
              "    }\n",
              "</style>\n",
              "<table border=\"1\" class=\"dataframe\">\n",
              "  <thead>\n",
              "    <tr style=\"text-align: right;\">\n",
              "      <th></th>\n",
              "      <th>code</th>\n",
              "      <th>title</th>\n",
              "      <th>section</th>\n",
              "      <th>class</th>\n",
              "      <th>subclass</th>\n",
              "      <th>group</th>\n",
              "      <th>main_group</th>\n",
              "    </tr>\n",
              "  </thead>\n",
              "  <tbody>\n",
              "    <tr>\n",
              "      <th>0</th>\n",
              "      <td>A</td>\n",
              "      <td>HUMAN NECESSITIES</td>\n",
              "      <td>A</td>\n",
              "      <td>NaN</td>\n",
              "      <td>NaN</td>\n",
              "      <td>NaN</td>\n",
              "      <td>NaN</td>\n",
              "    </tr>\n",
              "    <tr>\n",
              "      <th>1</th>\n",
              "      <td>A01</td>\n",
              "      <td>AGRICULTURE; FORESTRY; ANIMAL HUSBANDRY; HUNTI...</td>\n",
              "      <td>A</td>\n",
              "      <td>1.0</td>\n",
              "      <td>NaN</td>\n",
              "      <td>NaN</td>\n",
              "      <td>NaN</td>\n",
              "    </tr>\n",
              "    <tr>\n",
              "      <th>2</th>\n",
              "      <td>A01B</td>\n",
              "      <td>SOIL WORKING IN AGRICULTURE OR FORESTRY; PARTS...</td>\n",
              "      <td>A</td>\n",
              "      <td>1.0</td>\n",
              "      <td>B</td>\n",
              "      <td>NaN</td>\n",
              "      <td>NaN</td>\n",
              "    </tr>\n",
              "    <tr>\n",
              "      <th>3</th>\n",
              "      <td>A01B1/00</td>\n",
              "      <td>Hand tools (edge trimmers for lawns A01G3/06  ...</td>\n",
              "      <td>A</td>\n",
              "      <td>1.0</td>\n",
              "      <td>B</td>\n",
              "      <td>1.0</td>\n",
              "      <td>0.0</td>\n",
              "    </tr>\n",
              "    <tr>\n",
              "      <th>4</th>\n",
              "      <td>A01B1/02</td>\n",
              "      <td>Spades; Shovels {(hand-operated dredgers E02F3...</td>\n",
              "      <td>A</td>\n",
              "      <td>1.0</td>\n",
              "      <td>B</td>\n",
              "      <td>1.0</td>\n",
              "      <td>2.0</td>\n",
              "    </tr>\n",
              "  </tbody>\n",
              "</table>\n",
              "</div>\n",
              "      <button class=\"colab-df-convert\" onclick=\"convertToInteractive('df-0b8f2f2c-05e7-4150-894e-5d410aa706a1')\"\n",
              "              title=\"Convert this dataframe to an interactive table.\"\n",
              "              style=\"display:none;\">\n",
              "        \n",
              "  <svg xmlns=\"http://www.w3.org/2000/svg\" height=\"24px\"viewBox=\"0 0 24 24\"\n",
              "       width=\"24px\">\n",
              "    <path d=\"M0 0h24v24H0V0z\" fill=\"none\"/>\n",
              "    <path d=\"M18.56 5.44l.94 2.06.94-2.06 2.06-.94-2.06-.94-.94-2.06-.94 2.06-2.06.94zm-11 1L8.5 8.5l.94-2.06 2.06-.94-2.06-.94L8.5 2.5l-.94 2.06-2.06.94zm10 10l.94 2.06.94-2.06 2.06-.94-2.06-.94-.94-2.06-.94 2.06-2.06.94z\"/><path d=\"M17.41 7.96l-1.37-1.37c-.4-.4-.92-.59-1.43-.59-.52 0-1.04.2-1.43.59L10.3 9.45l-7.72 7.72c-.78.78-.78 2.05 0 2.83L4 21.41c.39.39.9.59 1.41.59.51 0 1.02-.2 1.41-.59l7.78-7.78 2.81-2.81c.8-.78.8-2.07 0-2.86zM5.41 20L4 18.59l7.72-7.72 1.47 1.35L5.41 20z\"/>\n",
              "  </svg>\n",
              "      </button>\n",
              "      \n",
              "  <style>\n",
              "    .colab-df-container {\n",
              "      display:flex;\n",
              "      flex-wrap:wrap;\n",
              "      gap: 12px;\n",
              "    }\n",
              "\n",
              "    .colab-df-convert {\n",
              "      background-color: #E8F0FE;\n",
              "      border: none;\n",
              "      border-radius: 50%;\n",
              "      cursor: pointer;\n",
              "      display: none;\n",
              "      fill: #1967D2;\n",
              "      height: 32px;\n",
              "      padding: 0 0 0 0;\n",
              "      width: 32px;\n",
              "    }\n",
              "\n",
              "    .colab-df-convert:hover {\n",
              "      background-color: #E2EBFA;\n",
              "      box-shadow: 0px 1px 2px rgba(60, 64, 67, 0.3), 0px 1px 3px 1px rgba(60, 64, 67, 0.15);\n",
              "      fill: #174EA6;\n",
              "    }\n",
              "\n",
              "    [theme=dark] .colab-df-convert {\n",
              "      background-color: #3B4455;\n",
              "      fill: #D2E3FC;\n",
              "    }\n",
              "\n",
              "    [theme=dark] .colab-df-convert:hover {\n",
              "      background-color: #434B5C;\n",
              "      box-shadow: 0px 1px 3px 1px rgba(0, 0, 0, 0.15);\n",
              "      filter: drop-shadow(0px 1px 2px rgba(0, 0, 0, 0.3));\n",
              "      fill: #FFFFFF;\n",
              "    }\n",
              "  </style>\n",
              "\n",
              "      <script>\n",
              "        const buttonEl =\n",
              "          document.querySelector('#df-0b8f2f2c-05e7-4150-894e-5d410aa706a1 button.colab-df-convert');\n",
              "        buttonEl.style.display =\n",
              "          google.colab.kernel.accessAllowed ? 'block' : 'none';\n",
              "\n",
              "        async function convertToInteractive(key) {\n",
              "          const element = document.querySelector('#df-0b8f2f2c-05e7-4150-894e-5d410aa706a1');\n",
              "          const dataTable =\n",
              "            await google.colab.kernel.invokeFunction('convertToInteractive',\n",
              "                                                     [key], {});\n",
              "          if (!dataTable) return;\n",
              "\n",
              "          const docLinkHtml = 'Like what you see? Visit the ' +\n",
              "            '<a target=\"_blank\" href=https://colab.research.google.com/notebooks/data_table.ipynb>data table notebook</a>'\n",
              "            + ' to learn more about interactive tables.';\n",
              "          element.innerHTML = '';\n",
              "          dataTable['output_type'] = 'display_data';\n",
              "          await google.colab.output.renderOutput(dataTable, element);\n",
              "          const docLink = document.createElement('div');\n",
              "          docLink.innerHTML = docLinkHtml;\n",
              "          element.appendChild(docLink);\n",
              "        }\n",
              "      </script>\n",
              "    </div>\n",
              "  </div>\n",
              "  "
            ]
          },
          "metadata": {},
          "execution_count": 81
        }
      ]
    },
    {
      "cell_type": "markdown",
      "source": [
        "Add a title column to give more context to the words"
      ],
      "metadata": {
        "id": "BPnErNv2NShU"
      }
    },
    {
      "cell_type": "code",
      "source": [
        "cpc = cpc.rename(columns = {\"code\" : \"context\"})\n",
        "train_df = pd.merge(train_df, cpc[[\"context\",\"title\"]], on =\"context\", how = \"left\")\n",
        "test_df = pd.merge(test_df, cpc[[\"context\",\"title\"]], on =\"context\", how = \"left\")"
      ],
      "metadata": {
        "id": "-91ruk2nHift"
      },
      "execution_count": null,
      "outputs": []
    },
    {
      "cell_type": "code",
      "source": [
        "train_df.head()"
      ],
      "metadata": {
        "id": "t840nXr0HjAq",
        "colab": {
          "base_uri": "https://localhost:8080/",
          "height": 206
        },
        "outputId": "5ab218d7-01c1-41ab-dfd2-ec09dbf31756"
      },
      "execution_count": null,
      "outputs": [
        {
          "output_type": "execute_result",
          "data": {
            "text/plain": [
              "                 id     anchor                  target context  score  \\\n",
              "0  37d61fd2272659b1  abatement  abatement of pollution     A47   0.50   \n",
              "1  7b9652b17b68b7a4  abatement          act of abating     A47   0.75   \n",
              "2  36d72442aefd8232  abatement         active catalyst     A47   0.25   \n",
              "3  5296b0c19e1ce60e  abatement     eliminating process     A47   0.50   \n",
              "4  54c1e3b9184cb5b6  abatement           forest region     A47   0.00   \n",
              "\n",
              "                                               title  \n",
              "0  FURNITURE; DOMESTIC ARTICLES OR APPLIANCES; CO...  \n",
              "1  FURNITURE; DOMESTIC ARTICLES OR APPLIANCES; CO...  \n",
              "2  FURNITURE; DOMESTIC ARTICLES OR APPLIANCES; CO...  \n",
              "3  FURNITURE; DOMESTIC ARTICLES OR APPLIANCES; CO...  \n",
              "4  FURNITURE; DOMESTIC ARTICLES OR APPLIANCES; CO...  "
            ],
            "text/html": [
              "\n",
              "  <div id=\"df-4a100f74-ba72-4541-86c2-faa7470b138c\">\n",
              "    <div class=\"colab-df-container\">\n",
              "      <div>\n",
              "<style scoped>\n",
              "    .dataframe tbody tr th:only-of-type {\n",
              "        vertical-align: middle;\n",
              "    }\n",
              "\n",
              "    .dataframe tbody tr th {\n",
              "        vertical-align: top;\n",
              "    }\n",
              "\n",
              "    .dataframe thead th {\n",
              "        text-align: right;\n",
              "    }\n",
              "</style>\n",
              "<table border=\"1\" class=\"dataframe\">\n",
              "  <thead>\n",
              "    <tr style=\"text-align: right;\">\n",
              "      <th></th>\n",
              "      <th>id</th>\n",
              "      <th>anchor</th>\n",
              "      <th>target</th>\n",
              "      <th>context</th>\n",
              "      <th>score</th>\n",
              "      <th>title</th>\n",
              "    </tr>\n",
              "  </thead>\n",
              "  <tbody>\n",
              "    <tr>\n",
              "      <th>0</th>\n",
              "      <td>37d61fd2272659b1</td>\n",
              "      <td>abatement</td>\n",
              "      <td>abatement of pollution</td>\n",
              "      <td>A47</td>\n",
              "      <td>0.50</td>\n",
              "      <td>FURNITURE; DOMESTIC ARTICLES OR APPLIANCES; CO...</td>\n",
              "    </tr>\n",
              "    <tr>\n",
              "      <th>1</th>\n",
              "      <td>7b9652b17b68b7a4</td>\n",
              "      <td>abatement</td>\n",
              "      <td>act of abating</td>\n",
              "      <td>A47</td>\n",
              "      <td>0.75</td>\n",
              "      <td>FURNITURE; DOMESTIC ARTICLES OR APPLIANCES; CO...</td>\n",
              "    </tr>\n",
              "    <tr>\n",
              "      <th>2</th>\n",
              "      <td>36d72442aefd8232</td>\n",
              "      <td>abatement</td>\n",
              "      <td>active catalyst</td>\n",
              "      <td>A47</td>\n",
              "      <td>0.25</td>\n",
              "      <td>FURNITURE; DOMESTIC ARTICLES OR APPLIANCES; CO...</td>\n",
              "    </tr>\n",
              "    <tr>\n",
              "      <th>3</th>\n",
              "      <td>5296b0c19e1ce60e</td>\n",
              "      <td>abatement</td>\n",
              "      <td>eliminating process</td>\n",
              "      <td>A47</td>\n",
              "      <td>0.50</td>\n",
              "      <td>FURNITURE; DOMESTIC ARTICLES OR APPLIANCES; CO...</td>\n",
              "    </tr>\n",
              "    <tr>\n",
              "      <th>4</th>\n",
              "      <td>54c1e3b9184cb5b6</td>\n",
              "      <td>abatement</td>\n",
              "      <td>forest region</td>\n",
              "      <td>A47</td>\n",
              "      <td>0.00</td>\n",
              "      <td>FURNITURE; DOMESTIC ARTICLES OR APPLIANCES; CO...</td>\n",
              "    </tr>\n",
              "  </tbody>\n",
              "</table>\n",
              "</div>\n",
              "      <button class=\"colab-df-convert\" onclick=\"convertToInteractive('df-4a100f74-ba72-4541-86c2-faa7470b138c')\"\n",
              "              title=\"Convert this dataframe to an interactive table.\"\n",
              "              style=\"display:none;\">\n",
              "        \n",
              "  <svg xmlns=\"http://www.w3.org/2000/svg\" height=\"24px\"viewBox=\"0 0 24 24\"\n",
              "       width=\"24px\">\n",
              "    <path d=\"M0 0h24v24H0V0z\" fill=\"none\"/>\n",
              "    <path d=\"M18.56 5.44l.94 2.06.94-2.06 2.06-.94-2.06-.94-.94-2.06-.94 2.06-2.06.94zm-11 1L8.5 8.5l.94-2.06 2.06-.94-2.06-.94L8.5 2.5l-.94 2.06-2.06.94zm10 10l.94 2.06.94-2.06 2.06-.94-2.06-.94-.94-2.06-.94 2.06-2.06.94z\"/><path d=\"M17.41 7.96l-1.37-1.37c-.4-.4-.92-.59-1.43-.59-.52 0-1.04.2-1.43.59L10.3 9.45l-7.72 7.72c-.78.78-.78 2.05 0 2.83L4 21.41c.39.39.9.59 1.41.59.51 0 1.02-.2 1.41-.59l7.78-7.78 2.81-2.81c.8-.78.8-2.07 0-2.86zM5.41 20L4 18.59l7.72-7.72 1.47 1.35L5.41 20z\"/>\n",
              "  </svg>\n",
              "      </button>\n",
              "      \n",
              "  <style>\n",
              "    .colab-df-container {\n",
              "      display:flex;\n",
              "      flex-wrap:wrap;\n",
              "      gap: 12px;\n",
              "    }\n",
              "\n",
              "    .colab-df-convert {\n",
              "      background-color: #E8F0FE;\n",
              "      border: none;\n",
              "      border-radius: 50%;\n",
              "      cursor: pointer;\n",
              "      display: none;\n",
              "      fill: #1967D2;\n",
              "      height: 32px;\n",
              "      padding: 0 0 0 0;\n",
              "      width: 32px;\n",
              "    }\n",
              "\n",
              "    .colab-df-convert:hover {\n",
              "      background-color: #E2EBFA;\n",
              "      box-shadow: 0px 1px 2px rgba(60, 64, 67, 0.3), 0px 1px 3px 1px rgba(60, 64, 67, 0.15);\n",
              "      fill: #174EA6;\n",
              "    }\n",
              "\n",
              "    [theme=dark] .colab-df-convert {\n",
              "      background-color: #3B4455;\n",
              "      fill: #D2E3FC;\n",
              "    }\n",
              "\n",
              "    [theme=dark] .colab-df-convert:hover {\n",
              "      background-color: #434B5C;\n",
              "      box-shadow: 0px 1px 3px 1px rgba(0, 0, 0, 0.15);\n",
              "      filter: drop-shadow(0px 1px 2px rgba(0, 0, 0, 0.3));\n",
              "      fill: #FFFFFF;\n",
              "    }\n",
              "  </style>\n",
              "\n",
              "      <script>\n",
              "        const buttonEl =\n",
              "          document.querySelector('#df-4a100f74-ba72-4541-86c2-faa7470b138c button.colab-df-convert');\n",
              "        buttonEl.style.display =\n",
              "          google.colab.kernel.accessAllowed ? 'block' : 'none';\n",
              "\n",
              "        async function convertToInteractive(key) {\n",
              "          const element = document.querySelector('#df-4a100f74-ba72-4541-86c2-faa7470b138c');\n",
              "          const dataTable =\n",
              "            await google.colab.kernel.invokeFunction('convertToInteractive',\n",
              "                                                     [key], {});\n",
              "          if (!dataTable) return;\n",
              "\n",
              "          const docLinkHtml = 'Like what you see? Visit the ' +\n",
              "            '<a target=\"_blank\" href=https://colab.research.google.com/notebooks/data_table.ipynb>data table notebook</a>'\n",
              "            + ' to learn more about interactive tables.';\n",
              "          element.innerHTML = '';\n",
              "          dataTable['output_type'] = 'display_data';\n",
              "          await google.colab.output.renderOutput(dataTable, element);\n",
              "          const docLink = document.createElement('div');\n",
              "          docLink.innerHTML = docLinkHtml;\n",
              "          element.appendChild(docLink);\n",
              "        }\n",
              "      </script>\n",
              "    </div>\n",
              "  </div>\n",
              "  "
            ]
          },
          "metadata": {},
          "execution_count": 83
        }
      ]
    },
    {
      "cell_type": "markdown",
      "source": [
        "Do preprocessing in order to remove punctuations and words that add no meaning"
      ],
      "metadata": {
        "id": "I0TXHCrANXyn"
      }
    },
    {
      "cell_type": "code",
      "source": [
        "def clean(x):\n",
        "    t = x.lower()\n",
        "    t = t.replace(\"[\",'')\n",
        "    t = t.replace(\";\",'')\n",
        "    t = t.replace(\",\",'')\n",
        "    t = t.replace(\"]\",'')\n",
        "    t = t.replace(\":\",'')\n",
        "    t= t.replace(\"or \", '')\n",
        "    t= t.replace(\"and \", '')\n",
        "    t= t.replace(\"the \", '')\n",
        "    t= t.replace(\"for \", '')\n",
        "    t= t.replace(\"of \", '')\n",
        "    t=t.replace(\"in \",'')\n",
        "    return t\n",
        "\n",
        "train_df['title'] = train_df['title'].apply(lambda x: clean(x))\n",
        "test_df['title'] = test_df['title'].apply(lambda x: clean(x))"
      ],
      "metadata": {
        "id": "uD61mA9rHlrO"
      },
      "execution_count": null,
      "outputs": []
    },
    {
      "cell_type": "code",
      "source": [
        "train_df.head()\n",
        "print(train_df)"
      ],
      "metadata": {
        "id": "cVTT_4UgHnPg",
        "colab": {
          "base_uri": "https://localhost:8080/"
        },
        "outputId": "b6c473fa-8774-403c-d2c9-eecb395b43ab"
      },
      "execution_count": null,
      "outputs": [
        {
          "output_type": "stream",
          "name": "stdout",
          "text": [
            "                     id        anchor                  target context  score  \\\n",
            "0      37d61fd2272659b1     abatement  abatement of pollution     A47   0.50   \n",
            "1      7b9652b17b68b7a4     abatement          act of abating     A47   0.75   \n",
            "2      36d72442aefd8232     abatement         active catalyst     A47   0.25   \n",
            "3      5296b0c19e1ce60e     abatement     eliminating process     A47   0.50   \n",
            "4      54c1e3b9184cb5b6     abatement           forest region     A47   0.00   \n",
            "...                 ...           ...                     ...     ...    ...   \n",
            "36468  8e1386cbefd7f245  wood article          wooden article     B44   1.00   \n",
            "36469  42d9e032d1cd3242  wood article              wooden box     B44   0.50   \n",
            "36470  208654ccb9e14fa3  wood article           wooden handle     B44   0.50   \n",
            "36471  756ec035e694722b  wood article         wooden material     B44   0.75   \n",
            "36472  8d135da0b55b8c88  wood article        wooden substrate     B44   0.50   \n",
            "\n",
            "                                                   title  \n",
            "0      furniture domestic articles appliances coffee ...  \n",
            "1      furniture domestic articles appliances coffee ...  \n",
            "2      furniture domestic articles appliances coffee ...  \n",
            "3      furniture domestic articles appliances coffee ...  \n",
            "4      furniture domestic articles appliances coffee ...  \n",
            "...                                                  ...  \n",
            "36468                                    decorative arts  \n",
            "36469                                    decorative arts  \n",
            "36470                                    decorative arts  \n",
            "36471                                    decorative arts  \n",
            "36472                                    decorative arts  \n",
            "\n",
            "[36473 rows x 6 columns]\n"
          ]
        }
      ]
    },
    {
      "cell_type": "markdown",
      "source": [
        "Combine the anchor and the title"
      ],
      "metadata": {
        "id": "mc8hHRNdNvAs"
      }
    },
    {
      "cell_type": "code",
      "source": [
        "train_df['sen1'] = train_df['anchor'].astype('str')+' '+train_df['title'].astype('str')\n",
        "test_df['sen1'] = test_df['anchor'].astype('str')+' '+test_df['title'].astype('str')"
      ],
      "metadata": {
        "id": "I6VvRolBHosv"
      },
      "execution_count": null,
      "outputs": []
    },
    {
      "cell_type": "code",
      "source": [
        "train_df.drop(['anchor','context','title'],axis=1,inplace=True)\n",
        "test_df.drop(['anchor','context','title'],axis=1,inplace=True)\n",
        "train_df.head()"
      ],
      "metadata": {
        "id": "T2kbsZGxHpmr",
        "colab": {
          "base_uri": "https://localhost:8080/",
          "height": 206
        },
        "outputId": "f24b1016-5ba5-41c2-9482-cae01d5bbe35"
      },
      "execution_count": null,
      "outputs": [
        {
          "output_type": "execute_result",
          "data": {
            "text/plain": [
              "                 id                  target  score  \\\n",
              "0  37d61fd2272659b1  abatement of pollution   0.50   \n",
              "1  7b9652b17b68b7a4          act of abating   0.75   \n",
              "2  36d72442aefd8232         active catalyst   0.25   \n",
              "3  5296b0c19e1ce60e     eliminating process   0.50   \n",
              "4  54c1e3b9184cb5b6           forest region   0.00   \n",
              "\n",
              "                                                sen1  \n",
              "0  abatement furniture domestic articles applianc...  \n",
              "1  abatement furniture domestic articles applianc...  \n",
              "2  abatement furniture domestic articles applianc...  \n",
              "3  abatement furniture domestic articles applianc...  \n",
              "4  abatement furniture domestic articles applianc...  "
            ],
            "text/html": [
              "\n",
              "  <div id=\"df-c69a4aad-a838-4710-b73b-ecc0d2a831d4\">\n",
              "    <div class=\"colab-df-container\">\n",
              "      <div>\n",
              "<style scoped>\n",
              "    .dataframe tbody tr th:only-of-type {\n",
              "        vertical-align: middle;\n",
              "    }\n",
              "\n",
              "    .dataframe tbody tr th {\n",
              "        vertical-align: top;\n",
              "    }\n",
              "\n",
              "    .dataframe thead th {\n",
              "        text-align: right;\n",
              "    }\n",
              "</style>\n",
              "<table border=\"1\" class=\"dataframe\">\n",
              "  <thead>\n",
              "    <tr style=\"text-align: right;\">\n",
              "      <th></th>\n",
              "      <th>id</th>\n",
              "      <th>target</th>\n",
              "      <th>score</th>\n",
              "      <th>sen1</th>\n",
              "    </tr>\n",
              "  </thead>\n",
              "  <tbody>\n",
              "    <tr>\n",
              "      <th>0</th>\n",
              "      <td>37d61fd2272659b1</td>\n",
              "      <td>abatement of pollution</td>\n",
              "      <td>0.50</td>\n",
              "      <td>abatement furniture domestic articles applianc...</td>\n",
              "    </tr>\n",
              "    <tr>\n",
              "      <th>1</th>\n",
              "      <td>7b9652b17b68b7a4</td>\n",
              "      <td>act of abating</td>\n",
              "      <td>0.75</td>\n",
              "      <td>abatement furniture domestic articles applianc...</td>\n",
              "    </tr>\n",
              "    <tr>\n",
              "      <th>2</th>\n",
              "      <td>36d72442aefd8232</td>\n",
              "      <td>active catalyst</td>\n",
              "      <td>0.25</td>\n",
              "      <td>abatement furniture domestic articles applianc...</td>\n",
              "    </tr>\n",
              "    <tr>\n",
              "      <th>3</th>\n",
              "      <td>5296b0c19e1ce60e</td>\n",
              "      <td>eliminating process</td>\n",
              "      <td>0.50</td>\n",
              "      <td>abatement furniture domestic articles applianc...</td>\n",
              "    </tr>\n",
              "    <tr>\n",
              "      <th>4</th>\n",
              "      <td>54c1e3b9184cb5b6</td>\n",
              "      <td>forest region</td>\n",
              "      <td>0.00</td>\n",
              "      <td>abatement furniture domestic articles applianc...</td>\n",
              "    </tr>\n",
              "  </tbody>\n",
              "</table>\n",
              "</div>\n",
              "      <button class=\"colab-df-convert\" onclick=\"convertToInteractive('df-c69a4aad-a838-4710-b73b-ecc0d2a831d4')\"\n",
              "              title=\"Convert this dataframe to an interactive table.\"\n",
              "              style=\"display:none;\">\n",
              "        \n",
              "  <svg xmlns=\"http://www.w3.org/2000/svg\" height=\"24px\"viewBox=\"0 0 24 24\"\n",
              "       width=\"24px\">\n",
              "    <path d=\"M0 0h24v24H0V0z\" fill=\"none\"/>\n",
              "    <path d=\"M18.56 5.44l.94 2.06.94-2.06 2.06-.94-2.06-.94-.94-2.06-.94 2.06-2.06.94zm-11 1L8.5 8.5l.94-2.06 2.06-.94-2.06-.94L8.5 2.5l-.94 2.06-2.06.94zm10 10l.94 2.06.94-2.06 2.06-.94-2.06-.94-.94-2.06-.94 2.06-2.06.94z\"/><path d=\"M17.41 7.96l-1.37-1.37c-.4-.4-.92-.59-1.43-.59-.52 0-1.04.2-1.43.59L10.3 9.45l-7.72 7.72c-.78.78-.78 2.05 0 2.83L4 21.41c.39.39.9.59 1.41.59.51 0 1.02-.2 1.41-.59l7.78-7.78 2.81-2.81c.8-.78.8-2.07 0-2.86zM5.41 20L4 18.59l7.72-7.72 1.47 1.35L5.41 20z\"/>\n",
              "  </svg>\n",
              "      </button>\n",
              "      \n",
              "  <style>\n",
              "    .colab-df-container {\n",
              "      display:flex;\n",
              "      flex-wrap:wrap;\n",
              "      gap: 12px;\n",
              "    }\n",
              "\n",
              "    .colab-df-convert {\n",
              "      background-color: #E8F0FE;\n",
              "      border: none;\n",
              "      border-radius: 50%;\n",
              "      cursor: pointer;\n",
              "      display: none;\n",
              "      fill: #1967D2;\n",
              "      height: 32px;\n",
              "      padding: 0 0 0 0;\n",
              "      width: 32px;\n",
              "    }\n",
              "\n",
              "    .colab-df-convert:hover {\n",
              "      background-color: #E2EBFA;\n",
              "      box-shadow: 0px 1px 2px rgba(60, 64, 67, 0.3), 0px 1px 3px 1px rgba(60, 64, 67, 0.15);\n",
              "      fill: #174EA6;\n",
              "    }\n",
              "\n",
              "    [theme=dark] .colab-df-convert {\n",
              "      background-color: #3B4455;\n",
              "      fill: #D2E3FC;\n",
              "    }\n",
              "\n",
              "    [theme=dark] .colab-df-convert:hover {\n",
              "      background-color: #434B5C;\n",
              "      box-shadow: 0px 1px 3px 1px rgba(0, 0, 0, 0.15);\n",
              "      filter: drop-shadow(0px 1px 2px rgba(0, 0, 0, 0.3));\n",
              "      fill: #FFFFFF;\n",
              "    }\n",
              "  </style>\n",
              "\n",
              "      <script>\n",
              "        const buttonEl =\n",
              "          document.querySelector('#df-c69a4aad-a838-4710-b73b-ecc0d2a831d4 button.colab-df-convert');\n",
              "        buttonEl.style.display =\n",
              "          google.colab.kernel.accessAllowed ? 'block' : 'none';\n",
              "\n",
              "        async function convertToInteractive(key) {\n",
              "          const element = document.querySelector('#df-c69a4aad-a838-4710-b73b-ecc0d2a831d4');\n",
              "          const dataTable =\n",
              "            await google.colab.kernel.invokeFunction('convertToInteractive',\n",
              "                                                     [key], {});\n",
              "          if (!dataTable) return;\n",
              "\n",
              "          const docLinkHtml = 'Like what you see? Visit the ' +\n",
              "            '<a target=\"_blank\" href=https://colab.research.google.com/notebooks/data_table.ipynb>data table notebook</a>'\n",
              "            + ' to learn more about interactive tables.';\n",
              "          element.innerHTML = '';\n",
              "          dataTable['output_type'] = 'display_data';\n",
              "          await google.colab.output.renderOutput(dataTable, element);\n",
              "          const docLink = document.createElement('div');\n",
              "          docLink.innerHTML = docLinkHtml;\n",
              "          element.appendChild(docLink);\n",
              "        }\n",
              "      </script>\n",
              "    </div>\n",
              "  </div>\n",
              "  "
            ]
          },
          "metadata": {},
          "execution_count": 95
        }
      ]
    },
    {
      "cell_type": "code",
      "source": [
        "test_df.head()"
      ],
      "metadata": {
        "id": "4RwHsWpfHrL9",
        "colab": {
          "base_uri": "https://localhost:8080/",
          "height": 206
        },
        "outputId": "592e4d13-0931-416e-ab12-245b68de988d"
      },
      "execution_count": null,
      "outputs": [
        {
          "output_type": "execute_result",
          "data": {
            "text/plain": [
              "                 id                         target  \\\n",
              "0  4112d61851461f60  inorganic photoconductor drum   \n",
              "1  09e418c93a776564              altering gas flow   \n",
              "2  36baf228038e314b                 lower locating   \n",
              "3  1f37ead645e7f0c8                  upper portion   \n",
              "4  71a5b6ad068d531f      artificial neural network   \n",
              "\n",
              "                                                sen1  \n",
              "0                                    opc drum optics  \n",
              "1  adjust gas flow combustion apparatus combustio...  \n",
              "2                    lower trunnion vehicles general  \n",
              "3  cap component treatment textiles like launderi...  \n",
              "4  neural stimulation electric communication tech...  "
            ],
            "text/html": [
              "\n",
              "  <div id=\"df-410e2ac6-11fb-4320-89e0-a4583ce42223\">\n",
              "    <div class=\"colab-df-container\">\n",
              "      <div>\n",
              "<style scoped>\n",
              "    .dataframe tbody tr th:only-of-type {\n",
              "        vertical-align: middle;\n",
              "    }\n",
              "\n",
              "    .dataframe tbody tr th {\n",
              "        vertical-align: top;\n",
              "    }\n",
              "\n",
              "    .dataframe thead th {\n",
              "        text-align: right;\n",
              "    }\n",
              "</style>\n",
              "<table border=\"1\" class=\"dataframe\">\n",
              "  <thead>\n",
              "    <tr style=\"text-align: right;\">\n",
              "      <th></th>\n",
              "      <th>id</th>\n",
              "      <th>target</th>\n",
              "      <th>sen1</th>\n",
              "    </tr>\n",
              "  </thead>\n",
              "  <tbody>\n",
              "    <tr>\n",
              "      <th>0</th>\n",
              "      <td>4112d61851461f60</td>\n",
              "      <td>inorganic photoconductor drum</td>\n",
              "      <td>opc drum optics</td>\n",
              "    </tr>\n",
              "    <tr>\n",
              "      <th>1</th>\n",
              "      <td>09e418c93a776564</td>\n",
              "      <td>altering gas flow</td>\n",
              "      <td>adjust gas flow combustion apparatus combustio...</td>\n",
              "    </tr>\n",
              "    <tr>\n",
              "      <th>2</th>\n",
              "      <td>36baf228038e314b</td>\n",
              "      <td>lower locating</td>\n",
              "      <td>lower trunnion vehicles general</td>\n",
              "    </tr>\n",
              "    <tr>\n",
              "      <th>3</th>\n",
              "      <td>1f37ead645e7f0c8</td>\n",
              "      <td>upper portion</td>\n",
              "      <td>cap component treatment textiles like launderi...</td>\n",
              "    </tr>\n",
              "    <tr>\n",
              "      <th>4</th>\n",
              "      <td>71a5b6ad068d531f</td>\n",
              "      <td>artificial neural network</td>\n",
              "      <td>neural stimulation electric communication tech...</td>\n",
              "    </tr>\n",
              "  </tbody>\n",
              "</table>\n",
              "</div>\n",
              "      <button class=\"colab-df-convert\" onclick=\"convertToInteractive('df-410e2ac6-11fb-4320-89e0-a4583ce42223')\"\n",
              "              title=\"Convert this dataframe to an interactive table.\"\n",
              "              style=\"display:none;\">\n",
              "        \n",
              "  <svg xmlns=\"http://www.w3.org/2000/svg\" height=\"24px\"viewBox=\"0 0 24 24\"\n",
              "       width=\"24px\">\n",
              "    <path d=\"M0 0h24v24H0V0z\" fill=\"none\"/>\n",
              "    <path d=\"M18.56 5.44l.94 2.06.94-2.06 2.06-.94-2.06-.94-.94-2.06-.94 2.06-2.06.94zm-11 1L8.5 8.5l.94-2.06 2.06-.94-2.06-.94L8.5 2.5l-.94 2.06-2.06.94zm10 10l.94 2.06.94-2.06 2.06-.94-2.06-.94-.94-2.06-.94 2.06-2.06.94z\"/><path d=\"M17.41 7.96l-1.37-1.37c-.4-.4-.92-.59-1.43-.59-.52 0-1.04.2-1.43.59L10.3 9.45l-7.72 7.72c-.78.78-.78 2.05 0 2.83L4 21.41c.39.39.9.59 1.41.59.51 0 1.02-.2 1.41-.59l7.78-7.78 2.81-2.81c.8-.78.8-2.07 0-2.86zM5.41 20L4 18.59l7.72-7.72 1.47 1.35L5.41 20z\"/>\n",
              "  </svg>\n",
              "      </button>\n",
              "      \n",
              "  <style>\n",
              "    .colab-df-container {\n",
              "      display:flex;\n",
              "      flex-wrap:wrap;\n",
              "      gap: 12px;\n",
              "    }\n",
              "\n",
              "    .colab-df-convert {\n",
              "      background-color: #E8F0FE;\n",
              "      border: none;\n",
              "      border-radius: 50%;\n",
              "      cursor: pointer;\n",
              "      display: none;\n",
              "      fill: #1967D2;\n",
              "      height: 32px;\n",
              "      padding: 0 0 0 0;\n",
              "      width: 32px;\n",
              "    }\n",
              "\n",
              "    .colab-df-convert:hover {\n",
              "      background-color: #E2EBFA;\n",
              "      box-shadow: 0px 1px 2px rgba(60, 64, 67, 0.3), 0px 1px 3px 1px rgba(60, 64, 67, 0.15);\n",
              "      fill: #174EA6;\n",
              "    }\n",
              "\n",
              "    [theme=dark] .colab-df-convert {\n",
              "      background-color: #3B4455;\n",
              "      fill: #D2E3FC;\n",
              "    }\n",
              "\n",
              "    [theme=dark] .colab-df-convert:hover {\n",
              "      background-color: #434B5C;\n",
              "      box-shadow: 0px 1px 3px 1px rgba(0, 0, 0, 0.15);\n",
              "      filter: drop-shadow(0px 1px 2px rgba(0, 0, 0, 0.3));\n",
              "      fill: #FFFFFF;\n",
              "    }\n",
              "  </style>\n",
              "\n",
              "      <script>\n",
              "        const buttonEl =\n",
              "          document.querySelector('#df-410e2ac6-11fb-4320-89e0-a4583ce42223 button.colab-df-convert');\n",
              "        buttonEl.style.display =\n",
              "          google.colab.kernel.accessAllowed ? 'block' : 'none';\n",
              "\n",
              "        async function convertToInteractive(key) {\n",
              "          const element = document.querySelector('#df-410e2ac6-11fb-4320-89e0-a4583ce42223');\n",
              "          const dataTable =\n",
              "            await google.colab.kernel.invokeFunction('convertToInteractive',\n",
              "                                                     [key], {});\n",
              "          if (!dataTable) return;\n",
              "\n",
              "          const docLinkHtml = 'Like what you see? Visit the ' +\n",
              "            '<a target=\"_blank\" href=https://colab.research.google.com/notebooks/data_table.ipynb>data table notebook</a>'\n",
              "            + ' to learn more about interactive tables.';\n",
              "          element.innerHTML = '';\n",
              "          dataTable['output_type'] = 'display_data';\n",
              "          await google.colab.output.renderOutput(dataTable, element);\n",
              "          const docLink = document.createElement('div');\n",
              "          docLink.innerHTML = docLinkHtml;\n",
              "          element.appendChild(docLink);\n",
              "        }\n",
              "      </script>\n",
              "    </div>\n",
              "  </div>\n",
              "  "
            ]
          },
          "metadata": {},
          "execution_count": 96
        }
      ]
    },
    {
      "cell_type": "markdown",
      "source": [
        "Glove Embeddings\n"
      ],
      "metadata": {
        "id": "3nHsUh0lHrw5"
      }
    },
    {
      "cell_type": "code",
      "source": [
        "path_to_glove_file = 'drive/My Drive/Colab Notebooks/Project/glove.6B.200d.txt'\n",
        "\n",
        "embeddings_index = {}\n",
        "with open(path_to_glove_file) as f:\n",
        "    for line in f:\n",
        "        word, coefs = line.split(maxsplit=1)\n",
        "        coefs = np.fromstring(coefs, \"f\", sep=\" \")\n",
        "        embeddings_index[word] = coefs\n",
        "\n",
        "print(\"Found %s word vectors.\" % len(embeddings_index))"
      ],
      "metadata": {
        "id": "TCSHctIwHt6A",
        "colab": {
          "base_uri": "https://localhost:8080/"
        },
        "outputId": "3eea07a6-b5d8-45a6-9db1-d7293d771267"
      },
      "execution_count": null,
      "outputs": [
        {
          "output_type": "stream",
          "name": "stdout",
          "text": [
            "Found 400000 word vectors.\n"
          ]
        }
      ]
    },
    {
      "cell_type": "markdown",
      "source": [
        "Any empty words will have an index oov and a value of 0"
      ],
      "metadata": {
        "id": "Zk2mpcZUN7mh"
      }
    },
    {
      "cell_type": "code",
      "source": [
        "embeddings_index['<oov>'] = jnp.zeros((200,),dtype='float32')"
      ],
      "metadata": {
        "id": "RHHVfAd4HxVJ"
      },
      "execution_count": null,
      "outputs": []
    },
    {
      "cell_type": "code",
      "source": [
        "embeddings_index.get('<oov>')"
      ],
      "metadata": {
        "id": "fTEOsjKnHx0k",
        "colab": {
          "base_uri": "https://localhost:8080/"
        },
        "outputId": "5ab0338e-0909-454e-e3f2-3762804c15c4"
      },
      "execution_count": null,
      "outputs": [
        {
          "output_type": "execute_result",
          "data": {
            "text/plain": [
              "DeviceArray([0., 0., 0., 0., 0., 0., 0., 0., 0., 0., 0., 0., 0., 0., 0.,\n",
              "             0., 0., 0., 0., 0., 0., 0., 0., 0., 0., 0., 0., 0., 0., 0.,\n",
              "             0., 0., 0., 0., 0., 0., 0., 0., 0., 0., 0., 0., 0., 0., 0.,\n",
              "             0., 0., 0., 0., 0., 0., 0., 0., 0., 0., 0., 0., 0., 0., 0.,\n",
              "             0., 0., 0., 0., 0., 0., 0., 0., 0., 0., 0., 0., 0., 0., 0.,\n",
              "             0., 0., 0., 0., 0., 0., 0., 0., 0., 0., 0., 0., 0., 0., 0.,\n",
              "             0., 0., 0., 0., 0., 0., 0., 0., 0., 0., 0., 0., 0., 0., 0.,\n",
              "             0., 0., 0., 0., 0., 0., 0., 0., 0., 0., 0., 0., 0., 0., 0.,\n",
              "             0., 0., 0., 0., 0., 0., 0., 0., 0., 0., 0., 0., 0., 0., 0.,\n",
              "             0., 0., 0., 0., 0., 0., 0., 0., 0., 0., 0., 0., 0., 0., 0.,\n",
              "             0., 0., 0., 0., 0., 0., 0., 0., 0., 0., 0., 0., 0., 0., 0.,\n",
              "             0., 0., 0., 0., 0., 0., 0., 0., 0., 0., 0., 0., 0., 0., 0.,\n",
              "             0., 0., 0., 0., 0., 0., 0., 0., 0., 0., 0., 0., 0., 0., 0.,\n",
              "             0., 0., 0., 0., 0.], dtype=float32)"
            ]
          },
          "metadata": {},
          "execution_count": 99
        }
      ]
    },
    {
      "cell_type": "markdown",
      "source": [
        "Use cosine similarity to check the distance between phrases. Utilize jax to find the mean of both vectors."
      ],
      "metadata": {
        "id": "mkHJ07XSOC3H"
      }
    },
    {
      "cell_type": "code",
      "source": [
        "from sklearn.metrics.pairwise import cosine_similarity\n",
        "\n",
        "res = []\n",
        "for idx,row in train_df.iterrows():\n",
        "    sen1 = row['sen1'].split(' ')\n",
        "    sen2 = row['target'].split(' ')\n",
        "    \n",
        "    vec1 = jnp.mean(jnp.array([embeddings_index.get(word,embeddings_index['<oov>']) for word in sen1]),axis=0)\n",
        "    vec2 = jnp.mean(jnp.array([embeddings_index.get(word,embeddings_index['<oov>']) for word in sen2]),axis=0)\n",
        "\n",
        "    cosine = cosine_similarity([vec1], [vec2])\n",
        "    res.append(round(float(cosine[0]),3))"
      ],
      "metadata": {
        "id": "vmcKtUgIHz5c"
      },
      "execution_count": null,
      "outputs": []
    },
    {
      "cell_type": "code",
      "source": [
        "print(len(res))\n",
        "print(train_df.shape)"
      ],
      "metadata": {
        "id": "64rSjMCqH0kh",
        "colab": {
          "base_uri": "https://localhost:8080/"
        },
        "outputId": "54035eb9-42ab-49a0-cfe0-6f9c4014b2a6"
      },
      "execution_count": null,
      "outputs": [
        {
          "output_type": "stream",
          "name": "stdout",
          "text": [
            "36473\n",
            "(36473, 4)\n"
          ]
        }
      ]
    },
    {
      "cell_type": "code",
      "source": [
        "train_df['word_embed_score'] = res"
      ],
      "metadata": {
        "id": "kceRK9rgH1tU"
      },
      "execution_count": null,
      "outputs": []
    },
    {
      "cell_type": "code",
      "source": [
        "from sklearn.metrics.pairwise import cosine_similarity\n",
        "\n",
        "res = []\n",
        "for idx,row in test_df.iterrows():\n",
        "    sen1 = row['sen1'].split(' ')\n",
        "    sen2 = row['target'].split(' ')\n",
        "    \n",
        "    vec1 = jnp.mean(jnp.array([embeddings_index.get(word,embeddings_index['<oov>']) for word in sen1]),axis=0)\n",
        "    vec2 = jnp.mean(jnp.array([embeddings_index.get(word,embeddings_index['<oov>']) for word in sen2]),axis=0) \n",
        "    cosine = cosine_similarity([vec1], [vec2])\n",
        "    \n",
        "    res.append([row['id'],round(float(cosine[0]),3)])"
      ],
      "metadata": {
        "id": "AfVOXunwRGK1"
      },
      "execution_count": null,
      "outputs": []
    },
    {
      "cell_type": "code",
      "source": [
        "train_df.head()"
      ],
      "metadata": {
        "id": "gtrm7OAzH4Ht",
        "colab": {
          "base_uri": "https://localhost:8080/",
          "height": 206
        },
        "outputId": "08f5cc40-8da8-462c-b37b-443e5a95f5e7"
      },
      "execution_count": null,
      "outputs": [
        {
          "output_type": "execute_result",
          "data": {
            "text/plain": [
              "                 id                  target  score  \\\n",
              "0  37d61fd2272659b1  abatement of pollution   0.50   \n",
              "1  7b9652b17b68b7a4          act of abating   0.75   \n",
              "2  36d72442aefd8232         active catalyst   0.25   \n",
              "3  5296b0c19e1ce60e     eliminating process   0.50   \n",
              "4  54c1e3b9184cb5b6           forest region   0.00   \n",
              "\n",
              "                                                sen1  word_embed_score  \n",
              "0  abatement furniture domestic articles applianc...             0.470  \n",
              "1  abatement furniture domestic articles applianc...             0.356  \n",
              "2  abatement furniture domestic articles applianc...             0.318  \n",
              "3  abatement furniture domestic articles applianc...             0.402  \n",
              "4  abatement furniture domestic articles applianc...             0.322  "
            ],
            "text/html": [
              "\n",
              "  <div id=\"df-92c2b0a3-9509-4e51-88ec-73bb40f4d854\">\n",
              "    <div class=\"colab-df-container\">\n",
              "      <div>\n",
              "<style scoped>\n",
              "    .dataframe tbody tr th:only-of-type {\n",
              "        vertical-align: middle;\n",
              "    }\n",
              "\n",
              "    .dataframe tbody tr th {\n",
              "        vertical-align: top;\n",
              "    }\n",
              "\n",
              "    .dataframe thead th {\n",
              "        text-align: right;\n",
              "    }\n",
              "</style>\n",
              "<table border=\"1\" class=\"dataframe\">\n",
              "  <thead>\n",
              "    <tr style=\"text-align: right;\">\n",
              "      <th></th>\n",
              "      <th>id</th>\n",
              "      <th>target</th>\n",
              "      <th>score</th>\n",
              "      <th>sen1</th>\n",
              "      <th>word_embed_score</th>\n",
              "    </tr>\n",
              "  </thead>\n",
              "  <tbody>\n",
              "    <tr>\n",
              "      <th>0</th>\n",
              "      <td>37d61fd2272659b1</td>\n",
              "      <td>abatement of pollution</td>\n",
              "      <td>0.50</td>\n",
              "      <td>abatement furniture domestic articles applianc...</td>\n",
              "      <td>0.470</td>\n",
              "    </tr>\n",
              "    <tr>\n",
              "      <th>1</th>\n",
              "      <td>7b9652b17b68b7a4</td>\n",
              "      <td>act of abating</td>\n",
              "      <td>0.75</td>\n",
              "      <td>abatement furniture domestic articles applianc...</td>\n",
              "      <td>0.356</td>\n",
              "    </tr>\n",
              "    <tr>\n",
              "      <th>2</th>\n",
              "      <td>36d72442aefd8232</td>\n",
              "      <td>active catalyst</td>\n",
              "      <td>0.25</td>\n",
              "      <td>abatement furniture domestic articles applianc...</td>\n",
              "      <td>0.318</td>\n",
              "    </tr>\n",
              "    <tr>\n",
              "      <th>3</th>\n",
              "      <td>5296b0c19e1ce60e</td>\n",
              "      <td>eliminating process</td>\n",
              "      <td>0.50</td>\n",
              "      <td>abatement furniture domestic articles applianc...</td>\n",
              "      <td>0.402</td>\n",
              "    </tr>\n",
              "    <tr>\n",
              "      <th>4</th>\n",
              "      <td>54c1e3b9184cb5b6</td>\n",
              "      <td>forest region</td>\n",
              "      <td>0.00</td>\n",
              "      <td>abatement furniture domestic articles applianc...</td>\n",
              "      <td>0.322</td>\n",
              "    </tr>\n",
              "  </tbody>\n",
              "</table>\n",
              "</div>\n",
              "      <button class=\"colab-df-convert\" onclick=\"convertToInteractive('df-92c2b0a3-9509-4e51-88ec-73bb40f4d854')\"\n",
              "              title=\"Convert this dataframe to an interactive table.\"\n",
              "              style=\"display:none;\">\n",
              "        \n",
              "  <svg xmlns=\"http://www.w3.org/2000/svg\" height=\"24px\"viewBox=\"0 0 24 24\"\n",
              "       width=\"24px\">\n",
              "    <path d=\"M0 0h24v24H0V0z\" fill=\"none\"/>\n",
              "    <path d=\"M18.56 5.44l.94 2.06.94-2.06 2.06-.94-2.06-.94-.94-2.06-.94 2.06-2.06.94zm-11 1L8.5 8.5l.94-2.06 2.06-.94-2.06-.94L8.5 2.5l-.94 2.06-2.06.94zm10 10l.94 2.06.94-2.06 2.06-.94-2.06-.94-.94-2.06-.94 2.06-2.06.94z\"/><path d=\"M17.41 7.96l-1.37-1.37c-.4-.4-.92-.59-1.43-.59-.52 0-1.04.2-1.43.59L10.3 9.45l-7.72 7.72c-.78.78-.78 2.05 0 2.83L4 21.41c.39.39.9.59 1.41.59.51 0 1.02-.2 1.41-.59l7.78-7.78 2.81-2.81c.8-.78.8-2.07 0-2.86zM5.41 20L4 18.59l7.72-7.72 1.47 1.35L5.41 20z\"/>\n",
              "  </svg>\n",
              "      </button>\n",
              "      \n",
              "  <style>\n",
              "    .colab-df-container {\n",
              "      display:flex;\n",
              "      flex-wrap:wrap;\n",
              "      gap: 12px;\n",
              "    }\n",
              "\n",
              "    .colab-df-convert {\n",
              "      background-color: #E8F0FE;\n",
              "      border: none;\n",
              "      border-radius: 50%;\n",
              "      cursor: pointer;\n",
              "      display: none;\n",
              "      fill: #1967D2;\n",
              "      height: 32px;\n",
              "      padding: 0 0 0 0;\n",
              "      width: 32px;\n",
              "    }\n",
              "\n",
              "    .colab-df-convert:hover {\n",
              "      background-color: #E2EBFA;\n",
              "      box-shadow: 0px 1px 2px rgba(60, 64, 67, 0.3), 0px 1px 3px 1px rgba(60, 64, 67, 0.15);\n",
              "      fill: #174EA6;\n",
              "    }\n",
              "\n",
              "    [theme=dark] .colab-df-convert {\n",
              "      background-color: #3B4455;\n",
              "      fill: #D2E3FC;\n",
              "    }\n",
              "\n",
              "    [theme=dark] .colab-df-convert:hover {\n",
              "      background-color: #434B5C;\n",
              "      box-shadow: 0px 1px 3px 1px rgba(0, 0, 0, 0.15);\n",
              "      filter: drop-shadow(0px 1px 2px rgba(0, 0, 0, 0.3));\n",
              "      fill: #FFFFFF;\n",
              "    }\n",
              "  </style>\n",
              "\n",
              "      <script>\n",
              "        const buttonEl =\n",
              "          document.querySelector('#df-92c2b0a3-9509-4e51-88ec-73bb40f4d854 button.colab-df-convert');\n",
              "        buttonEl.style.display =\n",
              "          google.colab.kernel.accessAllowed ? 'block' : 'none';\n",
              "\n",
              "        async function convertToInteractive(key) {\n",
              "          const element = document.querySelector('#df-92c2b0a3-9509-4e51-88ec-73bb40f4d854');\n",
              "          const dataTable =\n",
              "            await google.colab.kernel.invokeFunction('convertToInteractive',\n",
              "                                                     [key], {});\n",
              "          if (!dataTable) return;\n",
              "\n",
              "          const docLinkHtml = 'Like what you see? Visit the ' +\n",
              "            '<a target=\"_blank\" href=https://colab.research.google.com/notebooks/data_table.ipynb>data table notebook</a>'\n",
              "            + ' to learn more about interactive tables.';\n",
              "          element.innerHTML = '';\n",
              "          dataTable['output_type'] = 'display_data';\n",
              "          await google.colab.output.renderOutput(dataTable, element);\n",
              "          const docLink = document.createElement('div');\n",
              "          docLink.innerHTML = docLinkHtml;\n",
              "          element.appendChild(docLink);\n",
              "        }\n",
              "      </script>\n",
              "    </div>\n",
              "  </div>\n",
              "  "
            ]
          },
          "metadata": {},
          "execution_count": 104
        }
      ]
    },
    {
      "cell_type": "markdown",
      "source": [
        "Get the mean squared error of the score vs the predicted scores"
      ],
      "metadata": {
        "id": "qIOJoSgxOIi3"
      }
    },
    {
      "cell_type": "code",
      "source": [
        "from sklearn.metrics import mean_squared_error\n",
        "\n",
        "error = mean_squared_error(train_df['score'].values,train_df['word_embed_score'].values)\n",
        "error"
      ],
      "metadata": {
        "id": "NRrAotuEH5yA",
        "colab": {
          "base_uri": "https://localhost:8080/"
        },
        "outputId": "ed28e529-8d9e-4d53-99f0-deb822e69a79"
      },
      "execution_count": null,
      "outputs": [
        {
          "output_type": "execute_result",
          "data": {
            "text/plain": [
              "0.0918743378663669"
            ]
          },
          "metadata": {},
          "execution_count": 105
        }
      ]
    },
    {
      "cell_type": "code",
      "source": [
        "len(res),test_df.shape"
      ],
      "metadata": {
        "id": "0Q1G8pYPH7c4",
        "colab": {
          "base_uri": "https://localhost:8080/"
        },
        "outputId": "d7b7f916-62af-41c1-b2f4-d4f543ff8345"
      },
      "execution_count": null,
      "outputs": [
        {
          "output_type": "execute_result",
          "data": {
            "text/plain": [
              "(36, (36, 3))"
            ]
          },
          "metadata": {},
          "execution_count": 106
        }
      ]
    },
    {
      "cell_type": "code",
      "source": [
        "res = [[i[0],i[1]] if i[1]>=0 else [i[0],0.0] for i in res]\n",
        "res\n"
      ],
      "metadata": {
        "id": "dtGfsPDTH8cj",
        "colab": {
          "base_uri": "https://localhost:8080/"
        },
        "outputId": "6100646c-d394-401e-cf66-a6ccefd7ef9f"
      },
      "execution_count": null,
      "outputs": [
        {
          "output_type": "execute_result",
          "data": {
            "text/plain": [
              "[['4112d61851461f60', 0.512],\n",
              " ['09e418c93a776564', 0.787],\n",
              " ['36baf228038e314b', 0.614],\n",
              " ['1f37ead645e7f0c8', 0.454],\n",
              " ['71a5b6ad068d531f', 0.718],\n",
              " ['474c874d0c07bd21', 0.665],\n",
              " ['442c114ed5c4e3c9', 0.6],\n",
              " ['b8ae62ea5e1d8bdb', 0.534],\n",
              " ['faaddaf8fcba8a3f', 0.556],\n",
              " ['ae0262c02566d2ce', 0.882],\n",
              " ['a8808e31641e856d', 0.452],\n",
              " ['16ae4b99d3601e60', 0.576],\n",
              " ['25c555ca3d5a2092', 0.759],\n",
              " ['5203a36c501f1b7c', 0.813],\n",
              " ['b9fdc772bb8fd61c', 0.517],\n",
              " ['7aa5908a77a7ec24', 0.266],\n",
              " ['d19ef3979396d47e', 0.272],\n",
              " ['fd83613b7843f5e1', 0.565],\n",
              " ['2a619016908bfa45', 0.044],\n",
              " ['733979d75f59770d', 0.761],\n",
              " ['6546846df17f9800', 0.477],\n",
              " ['3ff0e7a35015be69', 0.0],\n",
              " ['12ca31f018a2e2b9', 0.69],\n",
              " ['03ba802ed4029e4d', 0.424],\n",
              " ['c404f8b378cbb008', 0.65],\n",
              " ['78243984c02a72e4', 0.383],\n",
              " ['de51114bc0faec3e', 0.642],\n",
              " ['7e3aff857f056bf9', 0.597],\n",
              " ['26c3c6dc6174b589', 0.239],\n",
              " ['b892011ab2e2cabc', 0.83],\n",
              " ['8247ff562ca185cc', 0.475],\n",
              " ['c057aecbba832387', 0.42],\n",
              " ['9f2279ce667b21dc', 0.81],\n",
              " ['b9ea2b06a878df6f', 0.414],\n",
              " ['79795133c30ef097', 0.368],\n",
              " ['25522ee5411e63e9', 0.384]]"
            ]
          },
          "metadata": {},
          "execution_count": 107
        }
      ]
    },
    {
      "cell_type": "code",
      "source": [
        "s = pd.DataFrame(res,columns=['id','score'])\n",
        "s.head()"
      ],
      "metadata": {
        "id": "nZ5hL5bRIA30",
        "colab": {
          "base_uri": "https://localhost:8080/",
          "height": 206
        },
        "outputId": "a42f1888-64c4-4f2a-807c-b5a61271c51d"
      },
      "execution_count": null,
      "outputs": [
        {
          "output_type": "execute_result",
          "data": {
            "text/plain": [
              "                 id  score\n",
              "0  4112d61851461f60  0.512\n",
              "1  09e418c93a776564  0.787\n",
              "2  36baf228038e314b  0.614\n",
              "3  1f37ead645e7f0c8  0.454\n",
              "4  71a5b6ad068d531f  0.718"
            ],
            "text/html": [
              "\n",
              "  <div id=\"df-a5a4bfef-c8d0-4505-82c9-ba8ac451b907\">\n",
              "    <div class=\"colab-df-container\">\n",
              "      <div>\n",
              "<style scoped>\n",
              "    .dataframe tbody tr th:only-of-type {\n",
              "        vertical-align: middle;\n",
              "    }\n",
              "\n",
              "    .dataframe tbody tr th {\n",
              "        vertical-align: top;\n",
              "    }\n",
              "\n",
              "    .dataframe thead th {\n",
              "        text-align: right;\n",
              "    }\n",
              "</style>\n",
              "<table border=\"1\" class=\"dataframe\">\n",
              "  <thead>\n",
              "    <tr style=\"text-align: right;\">\n",
              "      <th></th>\n",
              "      <th>id</th>\n",
              "      <th>score</th>\n",
              "    </tr>\n",
              "  </thead>\n",
              "  <tbody>\n",
              "    <tr>\n",
              "      <th>0</th>\n",
              "      <td>4112d61851461f60</td>\n",
              "      <td>0.512</td>\n",
              "    </tr>\n",
              "    <tr>\n",
              "      <th>1</th>\n",
              "      <td>09e418c93a776564</td>\n",
              "      <td>0.787</td>\n",
              "    </tr>\n",
              "    <tr>\n",
              "      <th>2</th>\n",
              "      <td>36baf228038e314b</td>\n",
              "      <td>0.614</td>\n",
              "    </tr>\n",
              "    <tr>\n",
              "      <th>3</th>\n",
              "      <td>1f37ead645e7f0c8</td>\n",
              "      <td>0.454</td>\n",
              "    </tr>\n",
              "    <tr>\n",
              "      <th>4</th>\n",
              "      <td>71a5b6ad068d531f</td>\n",
              "      <td>0.718</td>\n",
              "    </tr>\n",
              "  </tbody>\n",
              "</table>\n",
              "</div>\n",
              "      <button class=\"colab-df-convert\" onclick=\"convertToInteractive('df-a5a4bfef-c8d0-4505-82c9-ba8ac451b907')\"\n",
              "              title=\"Convert this dataframe to an interactive table.\"\n",
              "              style=\"display:none;\">\n",
              "        \n",
              "  <svg xmlns=\"http://www.w3.org/2000/svg\" height=\"24px\"viewBox=\"0 0 24 24\"\n",
              "       width=\"24px\">\n",
              "    <path d=\"M0 0h24v24H0V0z\" fill=\"none\"/>\n",
              "    <path d=\"M18.56 5.44l.94 2.06.94-2.06 2.06-.94-2.06-.94-.94-2.06-.94 2.06-2.06.94zm-11 1L8.5 8.5l.94-2.06 2.06-.94-2.06-.94L8.5 2.5l-.94 2.06-2.06.94zm10 10l.94 2.06.94-2.06 2.06-.94-2.06-.94-.94-2.06-.94 2.06-2.06.94z\"/><path d=\"M17.41 7.96l-1.37-1.37c-.4-.4-.92-.59-1.43-.59-.52 0-1.04.2-1.43.59L10.3 9.45l-7.72 7.72c-.78.78-.78 2.05 0 2.83L4 21.41c.39.39.9.59 1.41.59.51 0 1.02-.2 1.41-.59l7.78-7.78 2.81-2.81c.8-.78.8-2.07 0-2.86zM5.41 20L4 18.59l7.72-7.72 1.47 1.35L5.41 20z\"/>\n",
              "  </svg>\n",
              "      </button>\n",
              "      \n",
              "  <style>\n",
              "    .colab-df-container {\n",
              "      display:flex;\n",
              "      flex-wrap:wrap;\n",
              "      gap: 12px;\n",
              "    }\n",
              "\n",
              "    .colab-df-convert {\n",
              "      background-color: #E8F0FE;\n",
              "      border: none;\n",
              "      border-radius: 50%;\n",
              "      cursor: pointer;\n",
              "      display: none;\n",
              "      fill: #1967D2;\n",
              "      height: 32px;\n",
              "      padding: 0 0 0 0;\n",
              "      width: 32px;\n",
              "    }\n",
              "\n",
              "    .colab-df-convert:hover {\n",
              "      background-color: #E2EBFA;\n",
              "      box-shadow: 0px 1px 2px rgba(60, 64, 67, 0.3), 0px 1px 3px 1px rgba(60, 64, 67, 0.15);\n",
              "      fill: #174EA6;\n",
              "    }\n",
              "\n",
              "    [theme=dark] .colab-df-convert {\n",
              "      background-color: #3B4455;\n",
              "      fill: #D2E3FC;\n",
              "    }\n",
              "\n",
              "    [theme=dark] .colab-df-convert:hover {\n",
              "      background-color: #434B5C;\n",
              "      box-shadow: 0px 1px 3px 1px rgba(0, 0, 0, 0.15);\n",
              "      filter: drop-shadow(0px 1px 2px rgba(0, 0, 0, 0.3));\n",
              "      fill: #FFFFFF;\n",
              "    }\n",
              "  </style>\n",
              "\n",
              "      <script>\n",
              "        const buttonEl =\n",
              "          document.querySelector('#df-a5a4bfef-c8d0-4505-82c9-ba8ac451b907 button.colab-df-convert');\n",
              "        buttonEl.style.display =\n",
              "          google.colab.kernel.accessAllowed ? 'block' : 'none';\n",
              "\n",
              "        async function convertToInteractive(key) {\n",
              "          const element = document.querySelector('#df-a5a4bfef-c8d0-4505-82c9-ba8ac451b907');\n",
              "          const dataTable =\n",
              "            await google.colab.kernel.invokeFunction('convertToInteractive',\n",
              "                                                     [key], {});\n",
              "          if (!dataTable) return;\n",
              "\n",
              "          const docLinkHtml = 'Like what you see? Visit the ' +\n",
              "            '<a target=\"_blank\" href=https://colab.research.google.com/notebooks/data_table.ipynb>data table notebook</a>'\n",
              "            + ' to learn more about interactive tables.';\n",
              "          element.innerHTML = '';\n",
              "          dataTable['output_type'] = 'display_data';\n",
              "          await google.colab.output.renderOutput(dataTable, element);\n",
              "          const docLink = document.createElement('div');\n",
              "          docLink.innerHTML = docLinkHtml;\n",
              "          element.appendChild(docLink);\n",
              "        }\n",
              "      </script>\n",
              "    </div>\n",
              "  </div>\n",
              "  "
            ]
          },
          "metadata": {},
          "execution_count": 108
        }
      ]
    },
    {
      "cell_type": "markdown",
      "source": [
        "Comparing the Scores\n"
      ],
      "metadata": {
        "id": "E5qLJEZqW5mn"
      }
    },
    {
      "cell_type": "code",
      "source": [
        "embedScoreArr = jnp.asarray(train_df['word_embed_score'])\n",
        "scoreArr = jnp.asarray(train_df['score'])"
      ],
      "metadata": {
        "id": "gvsMoFieYcmj"
      },
      "execution_count": null,
      "outputs": []
    },
    {
      "cell_type": "code",
      "source": [
        "print(scoreArr)"
      ],
      "metadata": {
        "colab": {
          "base_uri": "https://localhost:8080/"
        },
        "id": "-G_pyCLkArTf",
        "outputId": "53fb9ca7-8c10-4dc4-9e96-3fbc50e9cd95"
      },
      "execution_count": null,
      "outputs": [
        {
          "output_type": "stream",
          "name": "stdout",
          "text": [
            "[0.5  0.75 0.25 ... 0.5  0.75 0.5 ]\n"
          ]
        }
      ]
    },
    {
      "cell_type": "code",
      "source": [
        "print(embedScoreArr)"
      ],
      "metadata": {
        "colab": {
          "base_uri": "https://localhost:8080/"
        },
        "id": "AJigxoqsAtIu",
        "outputId": "b760d459-f995-405a-d4fd-a97ef216c1b3"
      },
      "execution_count": null,
      "outputs": [
        {
          "output_type": "stream",
          "name": "stdout",
          "text": [
            "[0.47  0.356 0.318 ... 0.445 0.636 0.42 ]\n"
          ]
        }
      ]
    },
    {
      "cell_type": "code",
      "source": [
        "import matplotlib.pyplot as plt\n",
        "import seaborn as sns\n",
        "\n",
        "num = list(range(0,len(scoreArr)))\n",
        "\n",
        "f = plt.figure()\n",
        "#f.set_figwidth(500)\n",
        "#f.set_figheight(100)\n",
        "\n",
        "fix, ax = plt.subplots()\n",
        "plt.plot(num, scoreArr, color='b', label='Actual Score')\n",
        "plt.plot(num, embedScoreArr, color='orange', label='Calculated Score')\n",
        "plt.plot(num, abs(scoreArr - embedScoreArr), color = 'r', label = 'Difference')\n",
        "\n",
        "plt.legend()\n",
        "plt.ylim([0, 1])\n",
        "plt.xlim([0, 100])\n",
        "plt.ylabel('Score')\n",
        "plt.xlabel('Patent')\n",
        "plt.title('Calcuated Score v.s. Actual Score for the First 100 Patents')\n",
        "plt.show()"
      ],
      "metadata": {
        "colab": {
          "base_uri": "https://localhost:8080/",
          "height": 313
        },
        "id": "QYYVSrmJ4d1j",
        "outputId": "36d74a0c-c1ab-44e9-a328-ca789652eb91"
      },
      "execution_count": null,
      "outputs": [
        {
          "output_type": "display_data",
          "data": {
            "text/plain": [
              "<Figure size 432x288 with 0 Axes>"
            ]
          },
          "metadata": {}
        },
        {
          "output_type": "display_data",
          "data": {
            "text/plain": [
              "<Figure size 432x288 with 1 Axes>"
            ],
            "image/png": "[encoded data removed]"
          },
          "metadata": {
            "needs_background": "light"
          }
        }
      ]
    },
    {
      "cell_type": "markdown",
      "source": [
        "Correlation:"
      ],
      "metadata": {
        "id": "o5urJWuJyhBQ"
      }
    },
    {
      "cell_type": "code",
      "source": [
        "corr = jnp.corrcoef(embedScoreArr, scoreArr)\n",
        "print(\"correlation between the calculated score and the given score = \" + str(corr[0][1]))"
      ],
      "metadata": {
        "colab": {
          "base_uri": "https://localhost:8080/"
        },
        "id": "4Bpe4DAEyfH1",
        "outputId": "f1f684b9-4acc-4141-b783-fb752b083ad7"
      },
      "execution_count": null,
      "outputs": [
        {
          "output_type": "stream",
          "name": "stdout",
          "text": [
            "correlation between the calculated score and the given score = 0.27611968\n"
          ]
        }
      ]
    },
    {
      "cell_type": "markdown",
      "source": [
        "Normal Distribution of the Score Data\n"
      ],
      "metadata": {
        "id": "_2szRfj1JnTY"
      }
    },
    {
      "cell_type": "code",
      "source": [
        "#Round values from https://www.kaggle.com/code/brunogianesi/patent-phrase-to-phrase-matching-baseline\n",
        "\n",
        "def round_values(x):\n",
        "    if x >= 0 and x < 0.125:\n",
        "        return 0\n",
        "    if x >= 0.125 and x < 0.375:\n",
        "        return 0.25\n",
        "    if x >= 0.375 and x < 0.625:\n",
        "        return 0.5\n",
        "    if x >= 0.625 and x < 0.875:\n",
        "        return 0.75\n",
        "    if x >= 0.875 and x <= 1:\n",
        "        return 1.0"
      ],
      "metadata": {
        "id": "SMoPZBF8JqpD"
      },
      "execution_count": null,
      "outputs": []
    },
    {
      "cell_type": "code",
      "source": [
        "scoreRound = {'0': 0, '0.25': 0, '0.5': 0, '0.75': 0, '1.0': 0}\n",
        "scoreTotal = 0\n",
        "\n",
        "for i in scoreArr:\n",
        "  scoreTotal += i\n",
        "  if str(i) in scoreRound:\n",
        "    scoreRound[str(i)] += 1\n",
        "  else:\n",
        "    scoreRound[str(i)] = 1\n",
        "print(\"Rounded Actual Scores: \")\n",
        "print(scoreRound)\n",
        "\n",
        "scoreRoundProb = {}\n",
        "\n",
        "for i in scoreRound:\n",
        "  scoreRoundProb[i] = scoreRound[i] / len(scoreArr)\n",
        "\n",
        "print(\"Score Probabilities: \")\n",
        "print(scoreRoundProb)\n",
        "\n",
        "scoreMean = scoreTotal / len(scoreArr)\n",
        "print(\"Actual Score Mean = \" + str(scoreMean))"
      ],
      "metadata": {
        "colab": {
          "base_uri": "https://localhost:8080/"
        },
        "id": "HLS8pRIIJ2sG",
        "outputId": "edf4d27f-1844-46a5-a069-fb9505945dca"
      },
      "execution_count": null,
      "outputs": [
        {
          "output_type": "stream",
          "name": "stdout",
          "text": [
            "Rounded Actual Scores: \n",
            "{'0': 0, '0.25': 11519, '0.5': 12300, '0.75': 4029, '1.0': 1154, '0.0': 7471}\n",
            "Score Probabilities: \n",
            "{'0': 0.0, '0.25': 0.3158226633400049, '0.5': 0.33723576344144984, '0.75': 0.11046527568338223, '1.0': 0.03163984317166123, '0.0': 0.20483645436350176}\n",
            "Actual Score Mean = 0.36206234\n"
          ]
        }
      ]
    },
    {
      "cell_type": "code",
      "source": [
        "embedScoreRound = {'0': 0, '0.25': 0, '0.5': 0, '0.75': 0, '1.0': 0}\n",
        "embedScoreTotal = 0\n",
        "\n",
        "for i in embedScoreArr:\n",
        "  embedScoreTotal += i\n",
        "  if str(i) in embedScoreRound:\n",
        "    embedScoreRound[str(i)] += 1\n",
        "  else:\n",
        "    embedScoreRound[str(i)] = 1\n",
        "print(\"Rounded Calculated Scores: \")\n",
        "print(embedScoreRound)\n",
        "\n",
        "embedScoreRoundProb = {}\n",
        "\n",
        "for i in embedScoreRound:\n",
        "  embedScoreRoundProb[i] = embedScoreRound[i] / len(embedScoreArr)\n",
        "\n",
        "print(\"Calculated Score Probabilities: \")\n",
        "print(embedScoreRoundProb)\n",
        "embedScoreMean = embedScoreTotal / len(embedScoreArr)\n",
        "print(\"Calculated Score Mean = \" + str(embedScoreMean))"
      ],
      "metadata": {
        "colab": {
          "base_uri": "https://localhost:8080/"
        },
        "id": "1wsjcvA9NfJA",
        "outputId": "e0af9adf-11ad-44ef-a88c-893427f361a3"
      },
      "execution_count": null,
      "outputs": [
        {
          "output_type": "stream",
          "name": "stdout",
          "text": [
            "Rounded Calculated Scores: \n",
            "{'0': 0, '0.25': 41, '0.5': 77, '0.75': 47, '1.0': 0, '0.47': 60, '0.356': 54, '0.318': 59, '0.402': 55, '0.322': 46, '0.336': 55, '0.388': 63, '0.324': 47, '0.13': 10, '0.485': 90, '0.438': 65, '0.41': 59, '0.338': 51, '0.296': 40, '0.361': 58, '0.363': 73, '0.219': 29, '0.61': 63, '0.158': 17, '0.394': 62, '0.421': 62, '0.355': 74, '0.566': 78, '0.133': 13, '0.529': 91, '0.44': 66, '0.459': 63, '0.53': 82, '0.094': 18, '0.181': 17, '0.162': 17, '0.095': 13, '0.048': 10, '0.098': 7, '0.146': 25, '0.247': 39, '0.424': 72, '0.385': 46, '0.305': 46, '0.248': 39, '0.309': 35, '0.387': 53, '0.275': 39, '0.458': 70, '0.148': 15, '0.423': 67, '0.51': 73, '0.56': 89, '0.518': 75, '0.752': 32, '0.442': 62, '0.697': 53, '0.494': 77, '0.653': 59, '0.587': 64, '0.425': 69, '0.508': 68, '0.726': 45, '0.607': 61, '0.647': 59, '0.648': 62, '0.724': 39, '0.373': 58, '0.586': 77, '0.721': 30, '0.595': 82, '0.605': 76, '0.65': 60, '0.372': 45, '0.342': 59, '0.645': 62, '0.619': 54, '0.634': 58, '0.692': 57, '0.313': 42, '0.253': 39, '0.308': 37, '0.156': 17, '0.33': 48, '0.43': 67, '0.542': 70, '0.681': 48, '0.624': 72, '0.618': 86, '0.523': 79, '0.496': 72, '0.381': 53, '0.083': 9, '0.548': 68, '0.441': 73, '0.455': 83, '0.613': 75, '0.144': 24, '0.147': 24, '0.478': 66, '0.415': 64, '0.546': 70, '0.359': 50, '0.349': 47, '0.37': 70, '0.419': 53, '0.362': 30, '0.306': 36, '0.564': 86, '0.601': 84, '0.335': 42, '0.482': 69, '0.555': 75, '0.293': 27, '0.315': 46, '0.446': 69, '0.465': 78, '0.629': 59, '0.499': 80, '0.448': 71, '0.432': 62, '0.392': 71, '0.393': 55, '0.505': 77, '0.562': 94, '0.072': 12, '0.343': 43, '0.54': 86, '0.644': 76, '0.509': 87, '0.547': 71, '0.602': 72, '0.597': 42, '0.579': 83, '0.194': 21, '0.538': 77, '0.535': 79, '0.544': 83, '0.534': 67, '0.655': 59, '0.019': 6, '0.696': 38, '0.407': 67, '0.592': 65, '0.202': 24, '0.615': 79, '0.572': 68, '0.503': 91, '0.563': 71, '0.29': 38, '0.433': 58, '0.366': 60, '0.243': 38, '0.532': 70, '0.376': 43, '0.604': 66, '0.126': 13, '0.528': 81, '0.328': 45, '0.588': 62, '0.49': 83, '0.507': 81, '0.221': 25, '0.345': 51, '0.443': 76, '0.409': 65, '0.294': 44, '0.173': 23, '0.189': 18, '0.384': 63, '0.28': 32, '0.229': 28, '0.211': 29, '0.152': 21, '0.284': 46, '0.206': 28, '0.262': 32, '0.0': 310, '0.239': 41, '0.188': 17, '0.369': 43, '0.304': 47, '0.099': 9, '-0.038': 4, '0.35': 49, '0.68': 63, '0.876': 7, '0.83': 16, '0.827': 20, '0.794': 22, '0.743': 35, '0.782': 31, '0.578': 74, '0.603': 68, '0.606': 84, '0.72': 35, '0.561': 76, '0.732': 34, '0.596': 82, '0.788': 27, '0.815': 12, '0.744': 29, '0.638': 59, '0.671': 56, '0.771': 29, '0.673': 58, '0.793': 26, '0.785': 27, '0.736': 38, '0.776': 26, '0.74': 35, '0.758': 38, '0.708': 46, '0.571': 61, '0.557': 50, '0.741': 36, '0.297': 32, '0.437': 73, '0.184': 21, '0.59': 73, '0.516': 71, '0.193': 21, '0.552': 74, '0.665': 81, '0.584': 60, '0.559': 71, '0.521': 77, '0.623': 80, '0.621': 74, '0.463': 69, '0.32': 48, '0.461': 73, '0.781': 33, '0.738': 38, '0.451': 58, '0.339': 41, '0.005': 6, '0.216': 26, '0.582': 62, '0.408': 62, '0.382': 63, '0.514': 72, '0.491': 61, '0.46': 71, '0.411': 73, '0.506': 55, '0.351': 42, '0.476': 82, '0.862': 11, '0.539': 73, '0.784': 25, '0.908': 2, '0.716': 47, '0.749': 38, '0.751': 31, '0.666': 52, '0.795': 26, '0.693': 45, '0.682': 72, '0.766': 42, '0.768': 29, '0.804': 34, '0.78': 34, '0.707': 48, '0.52': 77, '0.831': 12, '0.756': 32, '0.714': 41, '0.292': 30, '0.456': 58, '0.519': 81, '0.569': 75, '0.57': 76, '0.622': 64, '0.551': 67, '-0.028': 5, '-0.129': 3, '-0.167': 2, '-0.13': 1, '-0.052': 2, '-0.033': 3, '0.059': 13, '0.001': 5, '-0.015': 4, '-0.099': 3, '-0.035': 4, '-0.054': 3, '-0.063': 5, '-0.061': 6, '-0.139': 1, '0.02': 7, '0.11': 13, '0.169': 22, '0.172': 19, '0.166': 15, '0.27': 40, '0.303': 47, '0.487': 62, '0.168': 24, '0.283': 36, '0.242': 28, '0.431': 59, '0.236': 29, '0.365': 57, '0.213': 31, '0.367': 65, '0.434': 76, '0.26': 38, '0.568': 60, '0.575': 81, '0.612': 66, '0.639': 64, '0.025': 10, '0.63': 52, '0.45': 56, '0.429': 66, '0.045': 5, '0.377': 42, '0.567': 74, '0.227': 27, '0.511': 88, '0.371': 50, '0.398': 72, '0.414': 64, '0.225': 25, '0.406': 63, '0.58': 78, '0.591': 80, '0.495': 74, '0.66': 65, '0.462': 72, '0.285': 33, '0.649': 51, '0.675': 62, '0.497': 72, '0.401': 53, '0.329': 54, '0.323': 49, '0.159': 13, '0.298': 35, '0.399': 57, '0.632': 65, '0.316': 35, '0.354': 61, '0.268': 46, '0.524': 69, '0.512': 52, '0.422': 67, '0.418': 60, '0.314': 36, '0.011': 5, '0.36': 54, '0.104': 12, '0.302': 48, '0.264': 30, '0.266': 36, '0.48': 74, '0.023': 7, '0.108': 23, '0.383': 51, '0.34': 37, '0.332': 44, '0.525': 91, '0.453': 85, '0.481': 79, '0.598': 53, '0.413': 66, '0.488': 85, '0.501': 75, '0.558': 59, '0.396': 62, '0.468': 68, '0.493': 74, '0.246': 31, '0.449': 60, '0.452': 56, '0.368': 56, '0.628': 60, '0.502': 80, '0.661': 55, '0.405': 61, '0.526': 67, '0.527': 73, '0.31': 35, '0.287': 41, '0.321': 33, '0.484': 71, '0.267': 41, '0.617': 73, '0.694': 48, '0.092': 19, '0.273': 31, '0.444': 61, '0.531': 84, '0.093': 12, '0.787': 26, '0.635': 63, '0.127': 21, '0.746': 37, '0.689': 42, '0.017': 9, '0.676': 50, '0.599': 71, '0.667': 47, '0.69': 54, '0.799': 14, '0.22': 30, '0.686': 51, '0.835': 12, '0.515': 58, '0.677': 50, '0.609': 63, '0.709': 42, '0.504': 71, '0.477': 62, '0.702': 43, '0.543': 83, '0.832': 18, '0.626': 59, '0.498': 58, '0.802': 18, '0.801': 28, '0.556': 57, '0.616': 73, '0.711': 50, '0.841': 13, '0.713': 47, '0.041': 11, '0.807': 25, '0.757': 31, '0.553': 74, '0.729': 38, '0.522': 77, '-0.021': 8, '0.364': 54, '0.19': 29, '0.327': 39, '0.085': 8, '0.278': 43, '0.263': 31, '0.426': 69, '0.286': 46, '0.472': 86, '0.326': 48, '0.378': 61, '0.611': 64, '0.164': 21, '0.608': 87, '0.517': 79, '0.513': 62, '0.291': 41, '0.271': 32, '0.134': 20, '0.358': 56, '0.282': 46, '0.664': 60, '0.228': 21, '0.312': 52, '0.348': 65, '0.404': 54, '0.179': 24, '0.483': 58, '0.457': 69, '0.685': 44, '0.379': 59, '0.467': 59, '0.417': 48, '0.112': 15, '0.439': 65, '0.669': 43, '0.627': 68, '0.549': 69, '0.641': 69, '0.672': 55, '0.663': 67, '0.593': 77, '0.636': 64, '0.654': 56, '0.774': 31, '0.375': 53, '0.537': 78, '0.764': 24, '0.789': 32, '0.737': 28, '0.272': 40, '0.633': 62, '0.307': 43, '0.688': 46, '0.739': 33, '0.317': 47, '0.55': 66, '0.625': 73, '0.427': 64, '0.643': 59, '0.585': 77, '0.325': 42, '0.42': 63, '0.545': 74, '0.533': 78, '0.428': 67, '0.39': 56, '0.386': 57, '0.143': 16, '0.797': 36, '0.352': 40, '0.589': 86, '0.244': 31, '0.725': 39, '0.825': 29, '0.347': 41, '0.412': 57, '0.416': 62, '0.357': 47, '0.217': 32, '0.445': 67, '0.554': 73, '0.684': 47, '0.631': 57, '0.182': 28, '0.198': 21, '0.64': 69, '0.581': 77, '0.234': 25, '0.541': 78, '0.576': 63, '0.674': 55, '0.806': 25, '0.728': 39, '0.722': 42, '0.678': 54, '0.734': 36, '0.691': 47, '0.683': 40, '0.792': 25, '0.808': 11, '0.769': 24, '0.695': 59, '0.704': 51, '0.763': 33, '-0.19': 1, '0.594': 71, '0.735': 39, '0.679': 66, '0.712': 53, '0.185': 22, '0.803': 27, '0.816': 20, '0.773': 34, '0.662': 54, '0.733': 38, '0.777': 24, '0.701': 50, '0.331': 47, '0.447': 80, '0.715': 44, '0.813': 26, '0.705': 67, '0.668': 51, '0.747': 33, '0.824': 21, '0.656': 58, '0.718': 37, '0.857': 7, '0.772': 30, '0.341': 53, '0.73': 38, '0.474': 61, '0.583': 57, '0.658': 65, '0.395': 60, '0.79': 28, '0.742': 38, '0.3': 33, '-0.041': 2, '0.252': 39, '0.642': 69, '0.76': 38, '0.256': 25, '0.251': 32, '0.767': 34, '0.464': 63, '0.204': 29, '0.214': 29, '0.135': 12, '0.049': 7, '0.471': 64, '0.565': 86, '0.199': 18, '0.107': 18, '0.473': 68, '0.177': 20, '0.259': 36, '0.319': 40, '-0.046': 3, '0.205': 28, '0.226': 30, '-0.095': 4, '0.374': 50, '0.038': 6, '0.18': 20, '0.289': 34, '-0.043': 5, '0.039': 8, '0.288': 45, '0.076': 3, '0.232': 31, '0.311': 39, '0.142': 16, '0.154': 12, '0.131': 18, '0.254': 30, '0.687': 54, '0.723': 45, '0.043': 4, '0.115': 17, '0.62': 55, '0.277': 32, '0.836': 19, '0.231': 27, '0.469': 79, '0.24': 28, '0.391': 56, '0.486': 67, '0.344': 39, '0.334': 49, '0.031': 6, '0.833': 14, '0.056': 7, '0.007': 6, '0.403': 57, '0.786': 29, '0.834': 19, '0.703': 45, '0.856': 8, '0.03': 8, '0.209': 21, '0.717': 43, '0.353': 40, '0.279': 44, '0.719': 47, '0.492': 75, '0.051': 10, '0.489': 62, '0.637': 53, '0.71': 43, '0.759': 39, '0.657': 74, '0.866': 8, '0.828': 23, '0.38': 55, '0.047': 15, '0.436': 69, '0.855': 10, '0.791': 24, '0.868': 7, '0.783': 27, '0.859': 8, '0.762': 24, '0.81': 27, '0.778': 32, '0.183': 23, '-0.165': 1, '0.389': 58, '0.196': 16, '0.215': 24, '0.046': 4, '0.1': 15, '0.223': 29, '0.435': 63, '0.122': 15, '0.651': 61, '0.2': 22, '-0.058': 3, '0.16': 22, '0.015': 5, '0.075': 4, '0.061': 15, '0.103': 16, '0.167': 18, '0.245': 27, '0.121': 9, '0.111': 12, '0.191': 25, '0.009': 4, '0.274': 34, '0.137': 12, '0.145': 16, '0.149': 15, '0.064': 12, '0.155': 23, '0.037': 7, '0.237': 33, '0.295': 38, '-0.009': 3, '0.014': 2, '0.21': 22, '0.078': 8, '-0.048': 6, '0.186': 15, '0.745': 30, '0.574': 87, '0.208': 30, '0.748': 34, '0.805': 19, '0.203': 22, '0.141': 10, '0.397': 54, '0.255': 32, '0.699': 63, '0.67': 56, '0.276': 46, '0.479': 73, '-0.003': 6, '0.796': 19, '0.814': 22, '0.871': 10, '0.761': 34, '0.249': 25, '0.299': 36, '0.652': 64, '0.843': 18, '0.837': 15, '0.706': 39, '0.536': 60, '-0.073': 4, '0.281': 32, '-0.01': 4, '-0.013': 3, '-0.059': 2, '-0.151': 1, '0.035': 6, '0.174': 20, '0.15': 20, '0.8': 22, '0.819': 15, '0.659': 44, '0.646': 62, '0.06': 8, '-0.044': 3, '-0.03': 2, '0.238': 39, '0.116': 14, '-0.007': 4, '0.233': 31, '0.573': 72, '0.301': 50, '-0.118': 1, '0.454': 69, '0.224': 21, '0.201': 27, '0.731': 45, '0.885': 7, '0.7': 46, '-0.081': 1, '0.614': 68, '0.779': 34, '0.068': 7, '0.577': 81, '0.886': 7, '0.754': 33, '0.755': 35, '0.157': 18, '0.821': 20, '0.698': 34, '0.475': 71, '0.852': 6, '0.82': 22, '0.753': 32, '0.23': 29, '0.074': 7, '0.01': 8, '0.257': 29, '0.151': 19, '0.4': 55, '0.892': 2, '0.845': 13, '0.864': 9, '0.863': 10, '0.197': 23, '0.195': 25, '0.036': 4, '0.052': 8, '0.079': 11, '0.033': 13, '0.05': 11, '0.207': 26, '0.016': 6, '0.08': 8, '0.09': 6, '0.265': 36, '-0.074': 3, '0.269': 34, '-0.04': 2, '0.012': 13, '0.218': 25, '0.136': 15, '-0.211': 1, '0.042': 12, '-0.001': 3, '0.117': 15, '-0.085': 4, '0.114': 19, '0.466': 80, '0.811': 30, '0.6': 76, '0.727': 42, '0.839': 10, '0.858': 9, '0.775': 30, '0.024': 7, '0.101': 13, '-0.102': 4, '-0.07': 5, '0.034': 5, '0.097': 12, '0.849': 7, '0.125': 12, '0.082': 15, '0.77': 33, '0.241': 32, '0.055': 10, '-0.093': 4, '0.073': 10, '-0.011': 3, '-0.186': 2, '-0.018': 4, '0.12': 15, '0.138': 16, '-0.109': 1, '0.109': 8, '0.14': 18, '0.113': 10, '0.118': 6, '0.123': 13, '0.346': 53, '-0.128': 3, '0.812': 16, '-0.284': 1, '0.829': 19, '0.018': 4, '0.124': 19, '0.128': 19, '0.071': 7, '0.87': 9, '0.88': 3, '0.04': 9, '0.091': 8, '0.822': 18, '-0.025': 6, '0.178': 17, '0.872': 8, '0.842': 7, '0.904': 3, '0.846': 17, '-0.096': 2, '0.222': 26, '0.029': 7, '0.175': 15, '-0.09': 3, '-0.067': 5, '0.089': 10, '-0.098': 1, '-0.086': 3, '0.337': 57, '-0.097': 2, '0.882': 5, '0.861': 6, '0.069': 9, '-0.017': 2, '0.054': 10, '0.171': 25, '0.86': 11, '0.826': 13, '0.893': 4, '0.865': 13, '0.838': 11, '0.848': 13, '0.869': 4, '0.809': 19, '0.798': 20, '-0.108': 3, '-0.172': 1, '-0.008': 6, '0.087': 10, '0.044': 9, '0.139': 16, '0.84': 8, '-0.068': 5, '0.261': 33, '0.192': 19, '0.817': 19, '0.161': 22, '-0.126': 1, '-0.037': 3, '0.105': 13, '0.081': 8, '0.333': 34, '0.088': 11, '0.021': 6, '0.028': 7, '0.106': 10, '0.853': 7, '0.235': 20, '-0.049': 6, '0.102': 12, '0.067': 6, '-0.112': 2, '-0.094': 3, '0.879': 9, '0.765': 32, '0.926': 2, '0.867': 6, '0.884': 6, '0.258': 37, '-0.012': 5, '0.187': 21, '0.004': 4, '0.013': 3, '0.212': 15, '0.854': 6, '-0.005': 4, '0.084': 8, '0.17': 19, '-0.076': 3, '-0.02': 7, '0.053': 7, '-0.161': 1, '0.153': 12, '-0.088': 4, '-0.014': 6, '0.119': 9, '0.847': 14, '-0.087': 2, '0.894': 7, '0.096': 15, '0.818': 10, '-0.079': 5, '0.89': 5, '0.165': 25, '0.062': 6, '-0.062': 3, '0.163': 16, '0.823': 11, '0.176': 15, '0.006': 7, '0.022': 8, '0.086': 7, '-0.036': 4, '-0.032': 5, '0.902': 3, '0.935': 1, '0.913': 2, '0.919': 4, '0.889': 4, '0.875': 4, '0.932': 2, '0.883': 4, '0.874': 7, '-0.21': 1, '0.129': 11, '-0.023': 4, '0.851': 12, '0.898': 2, '0.92': 2, '0.032': 9, '-0.241': 1, '0.85': 7, '-0.082': 4, '-0.065': 1, '0.844': 6, '-0.24': 1, '-0.053': 1, '0.066': 11, '-0.047': 3, '0.916': 1, '0.008': 3, '0.878': 3, '0.07': 9, '-0.08': 2, '0.899': 6, '0.873': 7, '0.065': 6, '0.057': 9, '0.881': 5, '-0.078': 3, '0.934': 1, '-0.034': 8, '0.132': 9, '-0.075': 1, '0.907': 4, '0.901': 3, '-0.133': 3, '-0.113': 4, '-0.077': 2, '-0.146': 2, '-0.148': 4, '-0.039': 4, '0.888': 6, '-0.132': 1, '-0.002': 6, '-0.029': 1, '-0.066': 4, '0.924': 1, '0.877': 6, '-0.143': 2, '0.896': 4, '-0.114': 2, '0.9': 2, '0.933': 1, '-0.185': 1, '-0.17': 2, '-0.106': 1, '-0.0': 3, '-0.031': 1, '-0.071': 2, '-0.127': 1, '0.003': 4, '-0.174': 1, '-0.227': 1, '-0.264': 1, '0.077': 5, '-0.122': 2, '0.063': 6, '-0.14': 1, '-0.055': 4, '-0.016': 2, '-0.198': 2, '-0.042': 4, '-0.226': 1, '-0.06': 5, '-0.156': 1, '-0.136': 1, '-0.084': 1, '-0.197': 1, '-0.119': 1, '0.891': 4, '0.903': 5, '-0.111': 1, '-0.027': 2, '-0.125': 1, '-0.045': 4, '0.937': 2, '-0.107': 1, '-0.064': 3, '0.895': 1, '-0.196': 1, '-0.121': 1, '-0.022': 3, '-0.026': 3, '-0.072': 2, '-0.056': 1, '-0.256': 1, '-0.051': 2, '-0.069': 2, '0.058': 5, '-0.23': 1, '-0.105': 1, '0.912': 1, '0.911': 1, '0.914': 3, '0.944': 1, '0.952': 1, '-0.092': 3, '-0.117': 1, '-0.089': 4, '-0.275': 1, '-0.166': 2, '-0.05': 1, '-0.149': 1, '-0.218': 1, '-0.268': 1, '-0.147': 1, '-0.006': 3, '-0.239': 1, '-0.019': 2, '-0.207': 1, '0.027': 3, '0.931': 2, '-0.153': 1, '-0.004': 1, '-0.228': 2, '0.905': 2, '-0.214': 1, '0.002': 2, '0.927': 2, '0.915': 1, '0.936': 1, '0.922': 1, '0.941': 2, '0.906': 1, '0.942': 1, '0.925': 1, '0.897': 1, '-0.123': 2, '-0.194': 1, '0.91': 1, '0.921': 1, '-0.181': 1, '-0.169': 1, '-0.184': 1, '0.918': 1, '-0.206': 1, '-0.248': 1, '-0.188': 1, '-0.216': 1, '0.887': 1, '-0.244': 1, '-0.16': 2, '-0.22': 1, '-0.302': 1, '-0.318': 1, '-0.209': 1, '0.94': 1, '-0.104': 1, '0.026': 1, '-0.142': 1, '-0.116': 1}\n",
            "Calculated Score Probabilities: \n",
            "{'0': 0.0, '0.25': 0.0011241192114714994, '0.5': 0.0021111507142269623, '0.75': 0.0012886244619307434, '1.0': 0.0, '0.47': 0.0016450525045924383, '0.356': 0.0014805472541331943, '0.318': 0.0016176349628492309, '0.402': 0.0015079647958764018, '0.322': 0.001261206920187536, '0.336': 0.0015079647958764018, '0.388': 0.0017273051298220602, '0.324': 0.0012886244619307434, '0.13': 0.00027417541743207305, '0.485': 0.0024675787568886574, '0.438': 0.0017821402133084748, '0.41': 0.0016176349628492309, '0.338': 0.0013982946289035725, '0.296': 0.0010967016697282922, '0.361': 0.0015902174211060236, '0.363': 0.002001480547254133, '0.219': 0.0007951087105530118, '0.61': 0.0017273051298220602, '0.158': 0.00046609820963452417, '0.394': 0.001699887588078853, '0.421': 0.001699887588078853, '0.355': 0.0020288980889973406, '0.566': 0.0021385682559701695, '0.133': 0.000356428042661695, '0.529': 0.0024949962986318647, '0.44': 0.001809557755051682, '0.459': 0.0017273051298220602, '0.53': 0.002248238422942999, '0.094': 0.0004935157513777314, '0.181': 0.00046609820963452417, '0.162': 0.00046609820963452417, '0.095': 0.000356428042661695, '0.048': 0.00027417541743207305, '0.098': 0.00019192279220245112, '0.146': 0.0006854385435801826, '0.247': 0.0010692841279850848, '0.424': 0.0019740630055109258, '0.385': 0.001261206920187536, '0.305': 0.001261206920187536, '0.248': 0.0010692841279850848, '0.309': 0.0009596139610122557, '0.387': 0.0014531297123899871, '0.275': 0.0010692841279850848, '0.458': 0.0019192279220245113, '0.148': 0.0004112631261481096, '0.423': 0.0018369752967948895, '0.51': 0.002001480547254133, '0.56': 0.0024401612151454502, '0.518': 0.002056315630740548, '0.752': 0.0008773613357826337, '0.442': 0.001699887588078853, '0.697': 0.0014531297123899871, '0.494': 0.0021111507142269623, '0.653': 0.0016176349628492309, '0.587': 0.0017547226715652674, '0.425': 0.001891810380281304, '0.508': 0.0018643928385380967, '0.726': 0.0012337893784443287, '0.607': 0.0016724700463356455, '0.647': 0.0016176349628492309, '0.648': 0.001699887588078853, '0.724': 0.0010692841279850848, '0.373': 0.0015902174211060236, '0.586': 0.0021111507142269623, '0.721': 0.0008225262522962191, '0.595': 0.002248238422942999, '0.605': 0.002083733172483755, '0.65': 0.0016450525045924383, '0.372': 0.0012337893784443287, '0.342': 0.0016176349628492309, '0.645': 0.001699887588078853, '0.619': 0.0014805472541331943, '0.634': 0.0015902174211060236, '0.692': 0.0015627998793628164, '0.313': 0.0011515367532147068, '0.253': 0.0010692841279850848, '0.308': 0.0010144490444986703, '0.156': 0.00046609820963452417, '0.33': 0.0013160420036739506, '0.43': 0.0018369752967948895, '0.542': 0.0019192279220245113, '0.681': 0.0013160420036739506, '0.624': 0.0019740630055109258, '0.618': 0.002357908589915828, '0.523': 0.002165985797713377, '0.496': 0.0019740630055109258, '0.381': 0.0014531297123899871, '0.083': 0.0002467578756888657, '0.548': 0.0018643928385380967, '0.441': 0.002001480547254133, '0.455': 0.002275655964686206, '0.613': 0.002056315630740548, '0.144': 0.0006580210018369753, '0.147': 0.0006580210018369753, '0.478': 0.001809557755051682, '0.415': 0.0017547226715652674, '0.546': 0.0019192279220245113, '0.359': 0.0013708770871603652, '0.349': 0.0012886244619307434, '0.37': 0.0019192279220245113, '0.419': 0.0014531297123899871, '0.362': 0.0008225262522962191, '0.306': 0.0009870315027554629, '0.564': 0.002357908589915828, '0.601': 0.0023030735064294137, '0.335': 0.0011515367532147068, '0.482': 0.001891810380281304, '0.555': 0.002056315630740548, '0.293': 0.0007402736270665972, '0.315': 0.001261206920187536, '0.446': 0.001891810380281304, '0.465': 0.0021385682559701695, '0.629': 0.0016176349628492309, '0.499': 0.0021934033394565844, '0.448': 0.0019466454637677186, '0.432': 0.001699887588078853, '0.392': 0.0019466454637677186, '0.393': 0.0015079647958764018, '0.505': 0.0021111507142269623, '0.562': 0.0025772489238614867, '0.072': 0.00032901050091848765, '0.343': 0.001178954294957914, '0.54': 0.002357908589915828, '0.644': 0.002083733172483755, '0.509': 0.0023853261316590353, '0.547': 0.0019466454637677186, '0.602': 0.0019740630055109258, '0.597': 0.0011515367532147068, '0.579': 0.002275655964686206, '0.194': 0.0005757683766073534, '0.538': 0.0021111507142269623, '0.535': 0.002165985797713377, '0.544': 0.002275655964686206, '0.534': 0.0018369752967948895, '0.655': 0.0016176349628492309, '0.019': 0.00016450525045924382, '0.696': 0.0010418665862418775, '0.407': 0.0018369752967948895, '0.592': 0.0017821402133084748, '0.202': 0.0006580210018369753, '0.615': 0.002165985797713377, '0.572': 0.0018643928385380967, '0.503': 0.0024949962986318647, '0.563': 0.0019466454637677186, '0.29': 0.0010418665862418775, '0.433': 0.0015902174211060236, '0.366': 0.0016450525045924383, '0.243': 0.0010418665862418775, '0.532': 0.0019192279220245113, '0.376': 0.001178954294957914, '0.604': 0.001809557755051682, '0.126': 0.000356428042661695, '0.528': 0.0022208208811997916, '0.328': 0.0012337893784443287, '0.588': 0.001699887588078853, '0.49': 0.002275655964686206, '0.507': 0.0022208208811997916, '0.221': 0.0006854385435801826, '0.345': 0.0013982946289035725, '0.443': 0.002083733172483755, '0.409': 0.0017821402133084748, '0.294': 0.0012063718367011213, '0.173': 0.000630603460093768, '0.189': 0.0004935157513777314, '0.384': 0.0017273051298220602, '0.28': 0.0008773613357826337, '0.229': 0.0007676911688098045, '0.211': 0.0007951087105530118, '0.152': 0.0005757683766073534, '0.284': 0.001261206920187536, '0.206': 0.0007676911688098045, '0.262': 0.0008773613357826337, '0.0': 0.008499437940394265, '0.239': 0.0011241192114714994, '0.188': 0.00046609820963452417, '0.369': 0.001178954294957914, '0.304': 0.0012886244619307434, '0.099': 0.0002467578756888657, '-0.038': 0.00010967016697282921, '0.35': 0.0013434595454171578, '0.68': 0.0017273051298220602, '0.876': 0.00019192279220245112, '0.83': 0.00043868066789131685, '0.827': 0.0005483508348641461, '0.794': 0.0006031859183505606, '0.743': 0.0009596139610122557, '0.782': 0.0008499437940394265, '0.578': 0.0020288980889973406, '0.603': 0.0018643928385380967, '0.606': 0.0023030735064294137, '0.72': 0.0009596139610122557, '0.561': 0.002083733172483755, '0.732': 0.0009321964192690483, '0.596': 0.002248238422942999, '0.788': 0.0007402736270665972, '0.815': 0.00032901050091848765, '0.744': 0.0007951087105530118, '0.638': 0.0016176349628492309, '0.671': 0.001535382337619609, '0.771': 0.0007951087105530118, '0.673': 0.0015902174211060236, '0.793': 0.00071285608532339, '0.785': 0.0007402736270665972, '0.736': 0.0010418665862418775, '0.776': 0.00071285608532339, '0.74': 0.0009596139610122557, '0.758': 0.0010418665862418775, '0.708': 0.001261206920187536, '0.571': 0.0016724700463356455, '0.557': 0.0013708770871603652, '0.741': 0.0009870315027554629, '0.297': 0.0008773613357826337, '0.437': 0.002001480547254133, '0.184': 0.0005757683766073534, '0.59': 0.002001480547254133, '0.516': 0.0019466454637677186, '0.193': 0.0005757683766073534, '0.552': 0.0020288980889973406, '0.665': 0.0022208208811997916, '0.584': 0.0016450525045924383, '0.559': 0.0019466454637677186, '0.521': 0.0021111507142269623, '0.623': 0.0021934033394565844, '0.621': 0.0020288980889973406, '0.463': 0.001891810380281304, '0.32': 0.0013160420036739506, '0.461': 0.002001480547254133, '0.781': 0.000904778877525841, '0.738': 0.0010418665862418775, '0.451': 0.0015902174211060236, '0.339': 0.0011241192114714994, '0.005': 0.00016450525045924382, '0.216': 0.00071285608532339, '0.582': 0.001699887588078853, '0.408': 0.001699887588078853, '0.382': 0.0017273051298220602, '0.514': 0.0019740630055109258, '0.491': 0.0016724700463356455, '0.46': 0.0019466454637677186, '0.411': 0.002001480547254133, '0.506': 0.0015079647958764018, '0.351': 0.0011515367532147068, '0.476': 0.002248238422942999, '0.862': 0.0003015929591752803, '0.539': 0.002001480547254133, '0.784': 0.0006854385435801826, '0.908': 5.4835083486414606e-05, '0.716': 0.0012886244619307434, '0.749': 0.0010418665862418775, '0.751': 0.0008499437940394265, '0.666': 0.00142571217064678, '0.795': 0.00071285608532339, '0.693': 0.0012337893784443287, '0.682': 0.0019740630055109258, '0.766': 0.0011515367532147068, '0.768': 0.0007951087105530118, '0.804': 0.0009321964192690483, '0.78': 0.0009321964192690483, '0.707': 0.0013160420036739506, '0.52': 0.0021111507142269623, '0.831': 0.00032901050091848765, '0.756': 0.0008773613357826337, '0.714': 0.0011241192114714994, '0.292': 0.0008225262522962191, '0.456': 0.0015902174211060236, '0.519': 0.0022208208811997916, '0.569': 0.002056315630740548, '0.57': 0.002083733172483755, '0.622': 0.0017547226715652674, '0.551': 0.0018369752967948895, '-0.028': 0.00013708770871603652, '-0.129': 8.225262522962191e-05, '-0.167': 5.4835083486414606e-05, '-0.13': 2.7417541743207303e-05, '-0.052': 5.4835083486414606e-05, '-0.033': 8.225262522962191e-05, '0.059': 0.000356428042661695, '0.001': 0.00013708770871603652, '-0.015': 0.00010967016697282921, '-0.099': 8.225262522962191e-05, '-0.035': 0.00010967016697282921, '-0.054': 8.225262522962191e-05, '-0.063': 0.00013708770871603652, '-0.061': 0.00016450525045924382, '-0.139': 2.7417541743207303e-05, '0.02': 0.00019192279220245112, '0.11': 0.000356428042661695, '0.169': 0.0006031859183505606, '0.172': 0.0005209332931209388, '0.166': 0.0004112631261481096, '0.27': 0.0010967016697282922, '0.303': 0.0012886244619307434, '0.487': 0.001699887588078853, '0.168': 0.0006580210018369753, '0.283': 0.0009870315027554629, '0.242': 0.0007676911688098045, '0.431': 0.0016176349628492309, '0.236': 0.0007951087105530118, '0.365': 0.0015627998793628164, '0.213': 0.0008499437940394265, '0.367': 0.0017821402133084748, '0.434': 0.002083733172483755, '0.26': 0.0010418665862418775, '0.568': 0.0016450525045924383, '0.575': 0.0022208208811997916, '0.612': 0.001809557755051682, '0.639': 0.0017547226715652674, '0.025': 0.00027417541743207305, '0.63': 0.00142571217064678, '0.45': 0.001535382337619609, '0.429': 0.001809557755051682, '0.045': 0.00013708770871603652, '0.377': 0.0011515367532147068, '0.567': 0.0020288980889973406, '0.227': 0.0007402736270665972, '0.511': 0.0024127436734022426, '0.371': 0.0013708770871603652, '0.398': 0.0019740630055109258, '0.414': 0.0017547226715652674, '0.225': 0.0006854385435801826, '0.406': 0.0017273051298220602, '0.58': 0.0021385682559701695, '0.591': 0.0021934033394565844, '0.495': 0.0020288980889973406, '0.66': 0.0017821402133084748, '0.462': 0.0019740630055109258, '0.285': 0.000904778877525841, '0.649': 0.0013982946289035725, '0.675': 0.001699887588078853, '0.497': 0.0019740630055109258, '0.401': 0.0014531297123899871, '0.329': 0.0014805472541331943, '0.323': 0.0013434595454171578, '0.159': 0.000356428042661695, '0.298': 0.0009596139610122557, '0.399': 0.0015627998793628164, '0.632': 0.0017821402133084748, '0.316': 0.0009596139610122557, '0.354': 0.0016724700463356455, '0.268': 0.001261206920187536, '0.524': 0.001891810380281304, '0.512': 0.00142571217064678, '0.422': 0.0018369752967948895, '0.418': 0.0016450525045924383, '0.314': 0.0009870315027554629, '0.011': 0.00013708770871603652, '0.36': 0.0014805472541331943, '0.104': 0.00032901050091848765, '0.302': 0.0013160420036739506, '0.264': 0.0008225262522962191, '0.266': 0.0009870315027554629, '0.48': 0.0020288980889973406, '0.023': 0.00019192279220245112, '0.108': 0.000630603460093768, '0.383': 0.0013982946289035725, '0.34': 0.0010144490444986703, '0.332': 0.0012063718367011213, '0.525': 0.0024949962986318647, '0.453': 0.002330491048172621, '0.481': 0.002165985797713377, '0.598': 0.0014531297123899871, '0.413': 0.001809557755051682, '0.488': 0.002330491048172621, '0.501': 0.002056315630740548, '0.558': 0.0016176349628492309, '0.396': 0.001699887588078853, '0.468': 0.0018643928385380967, '0.493': 0.0020288980889973406, '0.246': 0.0008499437940394265, '0.449': 0.0016450525045924383, '0.452': 0.001535382337619609, '0.368': 0.001535382337619609, '0.628': 0.0016450525045924383, '0.502': 0.0021934033394565844, '0.661': 0.0015079647958764018, '0.405': 0.0016724700463356455, '0.526': 0.0018369752967948895, '0.527': 0.002001480547254133, '0.31': 0.0009596139610122557, '0.287': 0.0011241192114714994, '0.321': 0.000904778877525841, '0.484': 0.0019466454637677186, '0.267': 0.0011241192114714994, '0.617': 0.002001480547254133, '0.694': 0.0013160420036739506, '0.092': 0.0005209332931209388, '0.273': 0.0008499437940394265, '0.444': 0.0016724700463356455, '0.531': 0.0023030735064294137, '0.093': 0.00032901050091848765, '0.787': 0.00071285608532339, '0.635': 0.0017273051298220602, '0.127': 0.0005757683766073534, '0.746': 0.0010144490444986703, '0.689': 0.0011515367532147068, '0.017': 0.0002467578756888657, '0.676': 0.0013708770871603652, '0.599': 0.0019466454637677186, '0.667': 0.0012886244619307434, '0.69': 0.0014805472541331943, '0.799': 0.00038384558440490225, '0.22': 0.0008225262522962191, '0.686': 0.0013982946289035725, '0.835': 0.00032901050091848765, '0.515': 0.0015902174211060236, '0.677': 0.0013708770871603652, '0.609': 0.0017273051298220602, '0.709': 0.0011515367532147068, '0.504': 0.0019466454637677186, '0.477': 0.001699887588078853, '0.702': 0.001178954294957914, '0.543': 0.002275655964686206, '0.832': 0.0004935157513777314, '0.626': 0.0016176349628492309, '0.498': 0.0015902174211060236, '0.802': 0.0004935157513777314, '0.801': 0.0007676911688098045, '0.556': 0.0015627998793628164, '0.616': 0.002001480547254133, '0.711': 0.0013708770871603652, '0.841': 0.000356428042661695, '0.713': 0.0012886244619307434, '0.041': 0.0003015929591752803, '0.807': 0.0006854385435801826, '0.757': 0.0008499437940394265, '0.553': 0.0020288980889973406, '0.729': 0.0010418665862418775, '0.522': 0.0021111507142269623, '-0.021': 0.00021934033394565842, '0.364': 0.0014805472541331943, '0.19': 0.0007951087105530118, '0.327': 0.0010692841279850848, '0.085': 0.00021934033394565842, '0.278': 0.001178954294957914, '0.263': 0.0008499437940394265, '0.426': 0.001891810380281304, '0.286': 0.001261206920187536, '0.472': 0.002357908589915828, '0.326': 0.0013160420036739506, '0.378': 0.0016724700463356455, '0.611': 0.0017547226715652674, '0.164': 0.0005757683766073534, '0.608': 0.0023853261316590353, '0.517': 0.002165985797713377, '0.513': 0.001699887588078853, '0.291': 0.0011241192114714994, '0.271': 0.0008773613357826337, '0.134': 0.0005483508348641461, '0.358': 0.001535382337619609, '0.282': 0.001261206920187536, '0.664': 0.0016450525045924383, '0.228': 0.0005757683766073534, '0.312': 0.00142571217064678, '0.348': 0.0017821402133084748, '0.404': 0.0014805472541331943, '0.179': 0.0006580210018369753, '0.483': 0.0015902174211060236, '0.457': 0.001891810380281304, '0.685': 0.0012063718367011213, '0.379': 0.0016176349628492309, '0.467': 0.0016176349628492309, '0.417': 0.0013160420036739506, '0.112': 0.0004112631261481096, '0.439': 0.0017821402133084748, '0.669': 0.001178954294957914, '0.627': 0.0018643928385380967, '0.549': 0.001891810380281304, '0.641': 0.001891810380281304, '0.672': 0.0015079647958764018, '0.663': 0.0018369752967948895, '0.593': 0.0021111507142269623, '0.636': 0.0017547226715652674, '0.654': 0.001535382337619609, '0.774': 0.0008499437940394265, '0.375': 0.0014531297123899871, '0.537': 0.0021385682559701695, '0.764': 0.0006580210018369753, '0.789': 0.0008773613357826337, '0.737': 0.0007676911688098045, '0.272': 0.0010967016697282922, '0.633': 0.001699887588078853, '0.307': 0.001178954294957914, '0.688': 0.001261206920187536, '0.739': 0.000904778877525841, '0.317': 0.0012886244619307434, '0.55': 0.001809557755051682, '0.625': 0.002001480547254133, '0.427': 0.0017547226715652674, '0.643': 0.0016176349628492309, '0.585': 0.0021111507142269623, '0.325': 0.0011515367532147068, '0.42': 0.0017273051298220602, '0.545': 0.0020288980889973406, '0.533': 0.0021385682559701695, '0.428': 0.0018369752967948895, '0.39': 0.001535382337619609, '0.386': 0.0015627998793628164, '0.143': 0.00043868066789131685, '0.797': 0.0009870315027554629, '0.352': 0.0010967016697282922, '0.589': 0.002357908589915828, '0.244': 0.0008499437940394265, '0.725': 0.0010692841279850848, '0.825': 0.0007951087105530118, '0.347': 0.0011241192114714994, '0.412': 0.0015627998793628164, '0.416': 0.001699887588078853, '0.357': 0.0012886244619307434, '0.217': 0.0008773613357826337, '0.445': 0.0018369752967948895, '0.554': 0.002001480547254133, '0.684': 0.0012886244619307434, '0.631': 0.0015627998793628164, '0.182': 0.0007676911688098045, '0.198': 0.0005757683766073534, '0.64': 0.001891810380281304, '0.581': 0.0021111507142269623, '0.234': 0.0006854385435801826, '0.541': 0.0021385682559701695, '0.576': 0.0017273051298220602, '0.674': 0.0015079647958764018, '0.806': 0.0006854385435801826, '0.728': 0.0010692841279850848, '0.722': 0.0011515367532147068, '0.678': 0.0014805472541331943, '0.734': 0.0009870315027554629, '0.691': 0.0012886244619307434, '0.683': 0.0010967016697282922, '0.792': 0.0006854385435801826, '0.808': 0.0003015929591752803, '0.769': 0.0006580210018369753, '0.695': 0.0016176349628492309, '0.704': 0.0013982946289035725, '0.763': 0.000904778877525841, '-0.19': 2.7417541743207303e-05, '0.594': 0.0019466454637677186, '0.735': 0.0010692841279850848, '0.679': 0.001809557755051682, '0.712': 0.0014531297123899871, '0.185': 0.0006031859183505606, '0.803': 0.0007402736270665972, '0.816': 0.0005483508348641461, '0.773': 0.0009321964192690483, '0.662': 0.0014805472541331943, '0.733': 0.0010418665862418775, '0.777': 0.0006580210018369753, '0.701': 0.0013708770871603652, '0.331': 0.0012886244619307434, '0.447': 0.0021934033394565844, '0.715': 0.0012063718367011213, '0.813': 0.00071285608532339, '0.705': 0.0018369752967948895, '0.668': 0.0013982946289035725, '0.747': 0.000904778877525841, '0.824': 0.0005757683766073534, '0.656': 0.0015902174211060236, '0.718': 0.0010144490444986703, '0.857': 0.00019192279220245112, '0.772': 0.0008225262522962191, '0.341': 0.0014531297123899871, '0.73': 0.0010418665862418775, '0.474': 0.0016724700463356455, '0.583': 0.0015627998793628164, '0.658': 0.0017821402133084748, '0.395': 0.0016450525045924383, '0.79': 0.0007676911688098045, '0.742': 0.0010418665862418775, '0.3': 0.000904778877525841, '-0.041': 5.4835083486414606e-05, '0.252': 0.0010692841279850848, '0.642': 0.001891810380281304, '0.76': 0.0010418665862418775, '0.256': 0.0006854385435801826, '0.251': 0.0008773613357826337, '0.767': 0.0009321964192690483, '0.464': 0.0017273051298220602, '0.204': 0.0007951087105530118, '0.214': 0.0007951087105530118, '0.135': 0.00032901050091848765, '0.049': 0.00019192279220245112, '0.471': 0.0017547226715652674, '0.565': 0.002357908589915828, '0.199': 0.0004935157513777314, '0.107': 0.0004935157513777314, '0.473': 0.0018643928385380967, '0.177': 0.0005483508348641461, '0.259': 0.0009870315027554629, '0.319': 0.0010967016697282922, '-0.046': 8.225262522962191e-05, '0.205': 0.0007676911688098045, '0.226': 0.0008225262522962191, '-0.095': 0.00010967016697282921, '0.374': 0.0013708770871603652, '0.038': 0.00016450525045924382, '0.18': 0.0005483508348641461, '0.289': 0.0009321964192690483, '-0.043': 0.00013708770871603652, '0.039': 0.00021934033394565842, '0.288': 0.0012337893784443287, '0.076': 8.225262522962191e-05, '0.232': 0.0008499437940394265, '0.311': 0.0010692841279850848, '0.142': 0.00043868066789131685, '0.154': 0.00032901050091848765, '0.131': 0.0004935157513777314, '0.254': 0.0008225262522962191, '0.687': 0.0014805472541331943, '0.723': 0.0012337893784443287, '0.043': 0.00010967016697282921, '0.115': 0.00046609820963452417, '0.62': 0.0015079647958764018, '0.277': 0.0008773613357826337, '0.836': 0.0005209332931209388, '0.231': 0.0007402736270665972, '0.469': 0.002165985797713377, '0.24': 0.0007676911688098045, '0.391': 0.001535382337619609, '0.486': 0.0018369752967948895, '0.344': 0.0010692841279850848, '0.334': 0.0013434595454171578, '0.031': 0.00016450525045924382, '0.833': 0.00038384558440490225, '0.056': 0.00019192279220245112, '0.007': 0.00016450525045924382, '0.403': 0.0015627998793628164, '0.786': 0.0007951087105530118, '0.834': 0.0005209332931209388, '0.703': 0.0012337893784443287, '0.856': 0.00021934033394565842, '0.03': 0.00021934033394565842, '0.209': 0.0005757683766073534, '0.717': 0.001178954294957914, '0.353': 0.0010967016697282922, '0.279': 0.0012063718367011213, '0.719': 0.0012886244619307434, '0.492': 0.002056315630740548, '0.051': 0.00027417541743207305, '0.489': 0.001699887588078853, '0.637': 0.0014531297123899871, '0.71': 0.001178954294957914, '0.759': 0.0010692841279850848, '0.657': 0.0020288980889973406, '0.866': 0.00021934033394565842, '0.828': 0.000630603460093768, '0.38': 0.0015079647958764018, '0.047': 0.0004112631261481096, '0.436': 0.001891810380281304, '0.855': 0.00027417541743207305, '0.791': 0.0006580210018369753, '0.868': 0.00019192279220245112, '0.783': 0.0007402736270665972, '0.859': 0.00021934033394565842, '0.762': 0.0006580210018369753, '0.81': 0.0007402736270665972, '0.778': 0.0008773613357826337, '0.183': 0.000630603460093768, '-0.165': 2.7417541743207303e-05, '0.389': 0.0015902174211060236, '0.196': 0.00043868066789131685, '0.215': 0.0006580210018369753, '0.046': 0.00010967016697282921, '0.1': 0.0004112631261481096, '0.223': 0.0007951087105530118, '0.435': 0.0017273051298220602, '0.122': 0.0004112631261481096, '0.651': 0.0016724700463356455, '0.2': 0.0006031859183505606, '-0.058': 8.225262522962191e-05, '0.16': 0.0006031859183505606, '0.015': 0.00013708770871603652, '0.075': 0.00010967016697282921, '0.061': 0.0004112631261481096, '0.103': 0.00043868066789131685, '0.167': 0.0004935157513777314, '0.245': 0.0007402736270665972, '0.121': 0.0002467578756888657, '0.111': 0.00032901050091848765, '0.191': 0.0006854385435801826, '0.009': 0.00010967016697282921, '0.274': 0.0009321964192690483, '0.137': 0.00032901050091848765, '0.145': 0.00043868066789131685, '0.149': 0.0004112631261481096, '0.064': 0.00032901050091848765, '0.155': 0.000630603460093768, '0.037': 0.00019192279220245112, '0.237': 0.000904778877525841, '0.295': 0.0010418665862418775, '-0.009': 8.225262522962191e-05, '0.014': 5.4835083486414606e-05, '0.21': 0.0006031859183505606, '0.078': 0.00021934033394565842, '-0.048': 0.00016450525045924382, '0.186': 0.0004112631261481096, '0.745': 0.0008225262522962191, '0.574': 0.0023853261316590353, '0.208': 0.0008225262522962191, '0.748': 0.0009321964192690483, '0.805': 0.0005209332931209388, '0.203': 0.0006031859183505606, '0.141': 0.00027417541743207305, '0.397': 0.0014805472541331943, '0.255': 0.0008773613357826337, '0.699': 0.0017273051298220602, '0.67': 0.001535382337619609, '0.276': 0.001261206920187536, '0.479': 0.002001480547254133, '-0.003': 0.00016450525045924382, '0.796': 0.0005209332931209388, '0.814': 0.0006031859183505606, '0.871': 0.00027417541743207305, '0.761': 0.0009321964192690483, '0.249': 0.0006854385435801826, '0.299': 0.0009870315027554629, '0.652': 0.0017547226715652674, '0.843': 0.0004935157513777314, '0.837': 0.0004112631261481096, '0.706': 0.0010692841279850848, '0.536': 0.0016450525045924383, '-0.073': 0.00010967016697282921, '0.281': 0.0008773613357826337, '-0.01': 0.00010967016697282921, '-0.013': 8.225262522962191e-05, '-0.059': 5.4835083486414606e-05, '-0.151': 2.7417541743207303e-05, '0.035': 0.00016450525045924382, '0.174': 0.0005483508348641461, '0.15': 0.0005483508348641461, '0.8': 0.0006031859183505606, '0.819': 0.0004112631261481096, '0.659': 0.0012063718367011213, '0.646': 0.001699887588078853, '0.06': 0.00021934033394565842, '-0.044': 8.225262522962191e-05, '-0.03': 5.4835083486414606e-05, '0.238': 0.0010692841279850848, '0.116': 0.00038384558440490225, '-0.007': 0.00010967016697282921, '0.233': 0.0008499437940394265, '0.573': 0.0019740630055109258, '0.301': 0.0013708770871603652, '-0.118': 2.7417541743207303e-05, '0.454': 0.001891810380281304, '0.224': 0.0005757683766073534, '0.201': 0.0007402736270665972, '0.731': 0.0012337893784443287, '0.885': 0.00019192279220245112, '0.7': 0.001261206920187536, '-0.081': 2.7417541743207303e-05, '0.614': 0.0018643928385380967, '0.779': 0.0009321964192690483, '0.068': 0.00019192279220245112, '0.577': 0.0022208208811997916, '0.886': 0.00019192279220245112, '0.754': 0.000904778877525841, '0.755': 0.0009596139610122557, '0.157': 0.0004935157513777314, '0.821': 0.0005483508348641461, '0.698': 0.0009321964192690483, '0.475': 0.0019466454637677186, '0.852': 0.00016450525045924382, '0.82': 0.0006031859183505606, '0.753': 0.0008773613357826337, '0.23': 0.0007951087105530118, '0.074': 0.00019192279220245112, '0.01': 0.00021934033394565842, '0.257': 0.0007951087105530118, '0.151': 0.0005209332931209388, '0.4': 0.0015079647958764018, '0.892': 5.4835083486414606e-05, '0.845': 0.000356428042661695, '0.864': 0.0002467578756888657, '0.863': 0.00027417541743207305, '0.197': 0.000630603460093768, '0.195': 0.0006854385435801826, '0.036': 0.00010967016697282921, '0.052': 0.00021934033394565842, '0.079': 0.0003015929591752803, '0.033': 0.000356428042661695, '0.05': 0.0003015929591752803, '0.207': 0.00071285608532339, '0.016': 0.00016450525045924382, '0.08': 0.00021934033394565842, '0.09': 0.00016450525045924382, '0.265': 0.0009870315027554629, '-0.074': 8.225262522962191e-05, '0.269': 0.0009321964192690483, '-0.04': 5.4835083486414606e-05, '0.012': 0.000356428042661695, '0.218': 0.0006854385435801826, '0.136': 0.0004112631261481096, '-0.211': 2.7417541743207303e-05, '0.042': 0.00032901050091848765, '-0.001': 8.225262522962191e-05, '0.117': 0.0004112631261481096, '-0.085': 0.00010967016697282921, '0.114': 0.0005209332931209388, '0.466': 0.0021934033394565844, '0.811': 0.0008225262522962191, '0.6': 0.002083733172483755, '0.727': 0.0011515367532147068, '0.839': 0.00027417541743207305, '0.858': 0.0002467578756888657, '0.775': 0.0008225262522962191, '0.024': 0.00019192279220245112, '0.101': 0.000356428042661695, '-0.102': 0.00010967016697282921, '-0.07': 0.00013708770871603652, '0.034': 0.00013708770871603652, '0.097': 0.00032901050091848765, '0.849': 0.00019192279220245112, '0.125': 0.00032901050091848765, '0.082': 0.0004112631261481096, '0.77': 0.000904778877525841, '0.241': 0.0008773613357826337, '0.055': 0.00027417541743207305, '-0.093': 0.00010967016697282921, '0.073': 0.00027417541743207305, '-0.011': 8.225262522962191e-05, '-0.186': 5.4835083486414606e-05, '-0.018': 0.00010967016697282921, '0.12': 0.0004112631261481096, '0.138': 0.00043868066789131685, '-0.109': 2.7417541743207303e-05, '0.109': 0.00021934033394565842, '0.14': 0.0004935157513777314, '0.113': 0.00027417541743207305, '0.118': 0.00016450525045924382, '0.123': 0.000356428042661695, '0.346': 0.0014531297123899871, '-0.128': 8.225262522962191e-05, '0.812': 0.00043868066789131685, '-0.284': 2.7417541743207303e-05, '0.829': 0.0005209332931209388, '0.018': 0.00010967016697282921, '0.124': 0.0005209332931209388, '0.128': 0.0005209332931209388, '0.071': 0.00019192279220245112, '0.87': 0.0002467578756888657, '0.88': 8.225262522962191e-05, '0.04': 0.0002467578756888657, '0.091': 0.00021934033394565842, '0.822': 0.0004935157513777314, '-0.025': 0.00016450525045924382, '0.178': 0.00046609820963452417, '0.872': 0.00021934033394565842, '0.842': 0.00019192279220245112, '0.904': 8.225262522962191e-05, '0.846': 0.00046609820963452417, '-0.096': 5.4835083486414606e-05, '0.222': 0.00071285608532339, '0.029': 0.00019192279220245112, '0.175': 0.0004112631261481096, '-0.09': 8.225262522962191e-05, '-0.067': 0.00013708770871603652, '0.089': 0.00027417541743207305, '-0.098': 2.7417541743207303e-05, '-0.086': 8.225262522962191e-05, '0.337': 0.0015627998793628164, '-0.097': 5.4835083486414606e-05, '0.882': 0.00013708770871603652, '0.861': 0.00016450525045924382, '0.069': 0.0002467578756888657, '-0.017': 5.4835083486414606e-05, '0.054': 0.00027417541743207305, '0.171': 0.0006854385435801826, '0.86': 0.0003015929591752803, '0.826': 0.000356428042661695, '0.893': 0.00010967016697282921, '0.865': 0.000356428042661695, '0.838': 0.0003015929591752803, '0.848': 0.000356428042661695, '0.869': 0.00010967016697282921, '0.809': 0.0005209332931209388, '0.798': 0.0005483508348641461, '-0.108': 8.225262522962191e-05, '-0.172': 2.7417541743207303e-05, '-0.008': 0.00016450525045924382, '0.087': 0.00027417541743207305, '0.044': 0.0002467578756888657, '0.139': 0.00043868066789131685, '0.84': 0.00021934033394565842, '-0.068': 0.00013708770871603652, '0.261': 0.000904778877525841, '0.192': 0.0005209332931209388, '0.817': 0.0005209332931209388, '0.161': 0.0006031859183505606, '-0.126': 2.7417541743207303e-05, '-0.037': 8.225262522962191e-05, '0.105': 0.000356428042661695, '0.081': 0.00021934033394565842, '0.333': 0.0009321964192690483, '0.088': 0.0003015929591752803, '0.021': 0.00016450525045924382, '0.028': 0.00019192279220245112, '0.106': 0.00027417541743207305, '0.853': 0.00019192279220245112, '0.235': 0.0005483508348641461, '-0.049': 0.00016450525045924382, '0.102': 0.00032901050091848765, '0.067': 0.00016450525045924382, '-0.112': 5.4835083486414606e-05, '-0.094': 8.225262522962191e-05, '0.879': 0.0002467578756888657, '0.765': 0.0008773613357826337, '0.926': 5.4835083486414606e-05, '0.867': 0.00016450525045924382, '0.884': 0.00016450525045924382, '0.258': 0.0010144490444986703, '-0.012': 0.00013708770871603652, '0.187': 0.0005757683766073534, '0.004': 0.00010967016697282921, '0.013': 8.225262522962191e-05, '0.212': 0.0004112631261481096, '0.854': 0.00016450525045924382, '-0.005': 0.00010967016697282921, '0.084': 0.00021934033394565842, '0.17': 0.0005209332931209388, '-0.076': 8.225262522962191e-05, '-0.02': 0.00019192279220245112, '0.053': 0.00019192279220245112, '-0.161': 2.7417541743207303e-05, '0.153': 0.00032901050091848765, '-0.088': 0.00010967016697282921, '-0.014': 0.00016450525045924382, '0.119': 0.0002467578756888657, '0.847': 0.00038384558440490225, '-0.087': 5.4835083486414606e-05, '0.894': 0.00019192279220245112, '0.096': 0.0004112631261481096, '0.818': 0.00027417541743207305, '-0.079': 0.00013708770871603652, '0.89': 0.00013708770871603652, '0.165': 0.0006854385435801826, '0.062': 0.00016450525045924382, '-0.062': 8.225262522962191e-05, '0.163': 0.00043868066789131685, '0.823': 0.0003015929591752803, '0.176': 0.0004112631261481096, '0.006': 0.00019192279220245112, '0.022': 0.00021934033394565842, '0.086': 0.00019192279220245112, '-0.036': 0.00010967016697282921, '-0.032': 0.00013708770871603652, '0.902': 8.225262522962191e-05, '0.935': 2.7417541743207303e-05, '0.913': 5.4835083486414606e-05, '0.919': 0.00010967016697282921, '0.889': 0.00010967016697282921, '0.875': 0.00010967016697282921, '0.932': 5.4835083486414606e-05, '0.883': 0.00010967016697282921, '0.874': 0.00019192279220245112, '-0.21': 2.7417541743207303e-05, '0.129': 0.0003015929591752803, '-0.023': 0.00010967016697282921, '0.851': 0.00032901050091848765, '0.898': 5.4835083486414606e-05, '0.92': 5.4835083486414606e-05, '0.032': 0.0002467578756888657, '-0.241': 2.7417541743207303e-05, '0.85': 0.00019192279220245112, '-0.082': 0.00010967016697282921, '-0.065': 2.7417541743207303e-05, '0.844': 0.00016450525045924382, '-0.24': 2.7417541743207303e-05, '-0.053': 2.7417541743207303e-05, '0.066': 0.0003015929591752803, '-0.047': 8.225262522962191e-05, '0.916': 2.7417541743207303e-05, '0.008': 8.225262522962191e-05, '0.878': 8.225262522962191e-05, '0.07': 0.0002467578756888657, '-0.08': 5.4835083486414606e-05, '0.899': 0.00016450525045924382, '0.873': 0.00019192279220245112, '0.065': 0.00016450525045924382, '0.057': 0.0002467578756888657, '0.881': 0.00013708770871603652, '-0.078': 8.225262522962191e-05, '0.934': 2.7417541743207303e-05, '-0.034': 0.00021934033394565842, '0.132': 0.0002467578756888657, '-0.075': 2.7417541743207303e-05, '0.907': 0.00010967016697282921, '0.901': 8.225262522962191e-05, '-0.133': 8.225262522962191e-05, '-0.113': 0.00010967016697282921, '-0.077': 5.4835083486414606e-05, '-0.146': 5.4835083486414606e-05, '-0.148': 0.00010967016697282921, '-0.039': 0.00010967016697282921, '0.888': 0.00016450525045924382, '-0.132': 2.7417541743207303e-05, '-0.002': 0.00016450525045924382, '-0.029': 2.7417541743207303e-05, '-0.066': 0.00010967016697282921, '0.924': 2.7417541743207303e-05, '0.877': 0.00016450525045924382, '-0.143': 5.4835083486414606e-05, '0.896': 0.00010967016697282921, '-0.114': 5.4835083486414606e-05, '0.9': 5.4835083486414606e-05, '0.933': 2.7417541743207303e-05, '-0.185': 2.7417541743207303e-05, '-0.17': 5.4835083486414606e-05, '-0.106': 2.7417541743207303e-05, '-0.0': 8.225262522962191e-05, '-0.031': 2.7417541743207303e-05, '-0.071': 5.4835083486414606e-05, '-0.127': 2.7417541743207303e-05, '0.003': 0.00010967016697282921, '-0.174': 2.7417541743207303e-05, '-0.227': 2.7417541743207303e-05, '-0.264': 2.7417541743207303e-05, '0.077': 0.00013708770871603652, '-0.122': 5.4835083486414606e-05, '0.063': 0.00016450525045924382, '-0.14': 2.7417541743207303e-05, '-0.055': 0.00010967016697282921, '-0.016': 5.4835083486414606e-05, '-0.198': 5.4835083486414606e-05, '-0.042': 0.00010967016697282921, '-0.226': 2.7417541743207303e-05, '-0.06': 0.00013708770871603652, '-0.156': 2.7417541743207303e-05, '-0.136': 2.7417541743207303e-05, '-0.084': 2.7417541743207303e-05, '-0.197': 2.7417541743207303e-05, '-0.119': 2.7417541743207303e-05, '0.891': 0.00010967016697282921, '0.903': 0.00013708770871603652, '-0.111': 2.7417541743207303e-05, '-0.027': 5.4835083486414606e-05, '-0.125': 2.7417541743207303e-05, '-0.045': 0.00010967016697282921, '0.937': 5.4835083486414606e-05, '-0.107': 2.7417541743207303e-05, '-0.064': 8.225262522962191e-05, '0.895': 2.7417541743207303e-05, '-0.196': 2.7417541743207303e-05, '-0.121': 2.7417541743207303e-05, '-0.022': 8.225262522962191e-05, '-0.026': 8.225262522962191e-05, '-0.072': 5.4835083486414606e-05, '-0.056': 2.7417541743207303e-05, '-0.256': 2.7417541743207303e-05, '-0.051': 5.4835083486414606e-05, '-0.069': 5.4835083486414606e-05, '0.058': 0.00013708770871603652, '-0.23': 2.7417541743207303e-05, '-0.105': 2.7417541743207303e-05, '0.912': 2.7417541743207303e-05, '0.911': 2.7417541743207303e-05, '0.914': 8.225262522962191e-05, '0.944': 2.7417541743207303e-05, '0.952': 2.7417541743207303e-05, '-0.092': 8.225262522962191e-05, '-0.117': 2.7417541743207303e-05, '-0.089': 0.00010967016697282921, '-0.275': 2.7417541743207303e-05, '-0.166': 5.4835083486414606e-05, '-0.05': 2.7417541743207303e-05, '-0.149': 2.7417541743207303e-05, '-0.218': 2.7417541743207303e-05, '-0.268': 2.7417541743207303e-05, '-0.147': 2.7417541743207303e-05, '-0.006': 8.225262522962191e-05, '-0.239': 2.7417541743207303e-05, '-0.019': 5.4835083486414606e-05, '-0.207': 2.7417541743207303e-05, '0.027': 8.225262522962191e-05, '0.931': 5.4835083486414606e-05, '-0.153': 2.7417541743207303e-05, '-0.004': 2.7417541743207303e-05, '-0.228': 5.4835083486414606e-05, '0.905': 5.4835083486414606e-05, '-0.214': 2.7417541743207303e-05, '0.002': 5.4835083486414606e-05, '0.927': 5.4835083486414606e-05, '0.915': 2.7417541743207303e-05, '0.936': 2.7417541743207303e-05, '0.922': 2.7417541743207303e-05, '0.941': 5.4835083486414606e-05, '0.906': 2.7417541743207303e-05, '0.942': 2.7417541743207303e-05, '0.925': 2.7417541743207303e-05, '0.897': 2.7417541743207303e-05, '-0.123': 5.4835083486414606e-05, '-0.194': 2.7417541743207303e-05, '0.91': 2.7417541743207303e-05, '0.921': 2.7417541743207303e-05, '-0.181': 2.7417541743207303e-05, '-0.169': 2.7417541743207303e-05, '-0.184': 2.7417541743207303e-05, '0.918': 2.7417541743207303e-05, '-0.206': 2.7417541743207303e-05, '-0.248': 2.7417541743207303e-05, '-0.188': 2.7417541743207303e-05, '-0.216': 2.7417541743207303e-05, '0.887': 2.7417541743207303e-05, '-0.244': 2.7417541743207303e-05, '-0.16': 5.4835083486414606e-05, '-0.22': 2.7417541743207303e-05, '-0.302': 2.7417541743207303e-05, '-0.318': 2.7417541743207303e-05, '-0.209': 2.7417541743207303e-05, '0.94': 2.7417541743207303e-05, '-0.104': 2.7417541743207303e-05, '0.026': 2.7417541743207303e-05, '-0.142': 2.7417541743207303e-05, '-0.116': 2.7417541743207303e-05}\n",
            "Calculated Score Mean = 0.48133668\n"
          ]
        }
      ]
    },
    {
      "cell_type": "code",
      "source": [
        "stdScore = jnp.std(scoreArr)\n",
        "scoreDis = np.random.normal(scoreMean, stdScore, len(scoreArr))\n",
        "plt.xlabel('probability')\n",
        "plt.ylabel('frequency')\n",
        "plt.title('Normal Distribution of the Actual Score')\n",
        "plt.hist(scoreDis,color='b')\n",
        "plt.show() "
      ],
      "metadata": {
        "colab": {
          "base_uri": "https://localhost:8080/",
          "height": 295
        },
        "id": "HW1eosAlOS-2",
        "outputId": "1d2e852d-d444-4adb-c9ea-66b052f86a98"
      },
      "execution_count": null,
      "outputs": [
        {
          "output_type": "display_data",
          "data": {
            "text/plain": [
              "<Figure size 432x288 with 1 Axes>"
            ],
            "image/png": "[encoded data removed]"
          },
          "metadata": {
            "needs_background": "light"
          }
        }
      ]
    },
    {
      "cell_type": "code",
      "source": [
        "stdEmbedScore = jnp.std(embedScoreArr)\n",
        "embedScoreDis = np.random.normal(embedScoreMean, stdEmbedScore, len(embedScoreArr))\n",
        "plt.xlabel('probability')\n",
        "plt.ylabel('frequency')\n",
        "plt.title('Normal Distribution of the Calculated Score')\n",
        "plt.hist(embedScoreDis, color='r')\n",
        "plt.show() "
      ],
      "metadata": {
        "colab": {
          "base_uri": "https://localhost:8080/",
          "height": 295
        },
        "id": "Qr4h1nlYa4yQ",
        "outputId": "477cb051-c271-4bfa-cf9f-59bddd21e480"
      },
      "execution_count": null,
      "outputs": [
        {
          "output_type": "display_data",
          "data": {
            "text/plain": [
              "<Figure size 432x288 with 1 Axes>"
            ],
            "image/png": "[encoded data removed]"
          },
          "metadata": {
            "needs_background": "light"
          }
        }
      ]
    },
    {
      "cell_type": "code",
      "source": [
        "corr = jnp.corrcoef(embedScoreDis, jnp.array(train_df['score']))\n",
        "print(\"correlation between the calculated score and the given score = \" + str(corr[0][1]))"
      ],
      "metadata": {
        "colab": {
          "base_uri": "https://localhost:8080/"
        },
        "id": "gz1qUArRg7Jc",
        "outputId": "2335c3dd-1de6-4e80-fc05-1f234af3173b"
      },
      "execution_count": null,
      "outputs": [
        {
          "output_type": "stream",
          "name": "stdout",
          "text": [
            "correlation between the calculated score and the given score = -4.5558627e-06\n"
          ]
        }
      ]
    }
  ]
}
